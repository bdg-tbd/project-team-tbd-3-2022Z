{
 "cells": [
  {
   "cell_type": "markdown",
   "metadata": {},
   "source": [
    "# TBD - etap 2a\n",
    "\n",
    "### Michał Kopyt, Rafał Kulus, Adrian Prorok"
   ]
  },
  {
   "cell_type": "markdown",
   "metadata": {},
   "source": [
    "## Wczytanie danych\n"
   ]
  },
  {
   "cell_type": "code",
   "execution_count": null,
   "metadata": {},
   "outputs": [
    {
     "name": "stdout",
     "output_type": "stream",
     "text": [
      "Collecting googledrivedownloader\n",
      "  Downloading googledrivedownloader-0.4-py2.py3-none-any.whl (3.9 kB)\n",
      "Installing collected packages: googledrivedownloader\n",
      "Successfully installed googledrivedownloader-0.4\n",
      "Note: you may need to restart the kernel to use updated packages.\n"
     ]
    }
   ],
   "source": [
    "pip install googledrivedownloader"
   ]
  },
  {
   "cell_type": "code",
   "execution_count": null,
   "metadata": {},
   "outputs": [
    {
     "name": "stdout",
     "output_type": "stream",
     "text": [
      "Downloading 1dfGerWeWkcyQ9GX9x20rdSGj7WtEpzBB into /home/jovyan/data/2020/survey.zip... Done.\n",
      "Unzipping...Done.\n"
     ]
    }
   ],
   "source": [
    "from google_drive_downloader import GoogleDriveDownloader as gdd\n",
    "from pathlib import Path\n",
    "\n",
    "path_dir = str(Path.home()) + \"/data/2020/\"  # ustawmy sciezke na HOME/data/2020\n",
    "archive_dir = path_dir + \"survey.zip\"        # plik zapiszemy pod nazwa survey.zip\n",
    "\n",
    "# sciagniecie pliku we wskazane miejsce\n",
    "gdd.download_file_from_google_drive(file_id='1dfGerWeWkcyQ9GX9x20rdSGj7WtEpzBB',\n",
    "                                    dest_path=archive_dir,\n",
    "                                    unzip=True)"
   ]
  },
  {
   "cell_type": "markdown",
   "metadata": {},
   "source": [
    "##  Podłączenie do sesji Spark\n"
   ]
  },
  {
   "cell_type": "code",
   "execution_count": 6,
   "metadata": {},
   "outputs": [],
   "source": [
    "from pyspark.sql import SparkSession\n",
    "\n",
    "spark = SparkSession \\\n",
    ".builder \\\n",
    ".config(\"spark.executor.instances\", \"1\")\\\n",
    ".config('spark.driver.memory','1g')\\\n",
    ".config('spark.executor.memory', '1g') \\\n",
    ".getOrCreate()"
   ]
  },
  {
   "cell_type": "markdown",
   "metadata": {},
   "source": [
    "## Dostęp do danych"
   ]
  },
  {
   "cell_type": "code",
   "execution_count": 7,
   "metadata": {},
   "outputs": [],
   "source": [
    "import os\n",
    "user_name = 'jovyan'\n",
    "# ścieżka dostępu do pliku\n",
    "csv_path = 'file:////home/jovyan/data/2020/survey_results_public.csv'\n",
    "df = spark.read.csv(csv_path, inferSchema=True, header=\"true\", nullValue='NA', nanValue='NA',emptyValue='NA')"
   ]
  },
  {
   "cell_type": "markdown",
   "metadata": {},
   "source": [
    "## <span style='background:yellow'> a) Ile jest unikalnych odpowiedzi w zapytaniu o poziom wykształcenia (EdLevel)? </span>"
   ]
  },
  {
   "cell_type": "code",
   "execution_count": 11,
   "metadata": {},
   "outputs": [
    {
     "name": "stdout",
     "output_type": "stream",
     "text": [
      "Liczba unikalnych odpowiedzi w zapytaniu o poziom wyksztalcenia: 10\n"
     ]
    }
   ],
   "source": [
    "df_ed_level = df.select(df.EdLevel).distinct() # stworz nowy DF zawierajacy tylko unikalne wartosci poziomow wyksztalcenia\n",
    "\n",
    "print(f'Liczba unikalnych odpowiedzi w zapytaniu o poziom wyksztalcenia: {df_ed_level.count()}')"
   ]
  },
  {
   "cell_type": "markdown",
   "metadata": {
    "tags": []
   },
   "source": [
    "## <span style='background:yellow'> b) Podaj średnią liczbę godzin przepracowywanych przez respondentów pogrupowanych ze względu na kraj. </span>"
   ]
  },
  {
   "cell_type": "code",
   "execution_count": 44,
   "metadata": {},
   "outputs": [
    {
     "name": "stdout",
     "output_type": "stream",
     "text": [
      "+--------------------+------------------+\n",
      "|             Country|  avg(WorkWeekHrs)|\n",
      "+--------------------+------------------+\n",
      "|       Côte d'Ivoire|              32.0|\n",
      "|            Paraguay|            29.875|\n",
      "|The former Yugosl...|              39.5|\n",
      "|               Yemen|              40.0|\n",
      "|             Senegal|34.285714285714285|\n",
      "|              Sweden|  40.7496062992126|\n",
      "|  Hong Kong (S.A.R.)|42.298507462686565|\n",
      "|   Republic of Korea|35.138888888888886|\n",
      "|         Philippines| 37.32920792079208|\n",
      "|             Eritrea|              null|\n",
      "|            Djibouti|              45.0|\n",
      "|           Singapore| 40.25684931506849|\n",
      "|            Malaysia|39.255639097744364|\n",
      "|              Turkey| 43.77202643171806|\n",
      "|              Malawi|              36.5|\n",
      "|                Iraq| 49.07142857142857|\n",
      "|             Germany| 40.27298744460857|\n",
      "|         Afghanistan|              46.5|\n",
      "|            Cambodia|              44.0|\n",
      "|              Jordan|45.806451612903224|\n",
      "+--------------------+------------------+\n",
      "only showing top 20 rows\n",
      "\n"
     ]
    }
   ],
   "source": [
    "df.groupBy(\"Country\").avg(\"WorkWeekHrs\").show() # dokonaj grupowania po Country i policz srednia liczbe przepracowywanych godzin w tygodniu przez respondentow"
   ]
  },
  {
   "cell_type": "markdown",
   "metadata": {
    "tags": []
   },
   "source": [
    "## <span style='background:yellow'> c) Narysuj wykres słupkowy popularności wykorzystywanych baz danych przez profesjonalnych programistów. Skorzystaj z funkcji split i posexplode. </span>"
   ]
  },
  {
   "cell_type": "code",
   "execution_count": 26,
   "metadata": {},
   "outputs": [
    {
     "name": "stdout",
     "output_type": "stream",
     "text": [
      "+--------------------+\n",
      "|  DatabaseWorkedWith|\n",
      "+--------------------+\n",
      "|Elasticsearch;Mic...|\n",
      "|MySQL;PostgreSQL;...|\n",
      "| MariaDB;MySQL;Redis|\n",
      "|Microsoft SQL Server|\n",
      "|Firebase;MongoDB;...|\n",
      "|Firebase;Microsof...|\n",
      "|        MySQL;Oracle|\n",
      "|          PostgreSQL|\n",
      "|Microsoft SQL Ser...|\n",
      "|Elasticsearch;Mar...|\n",
      "|MariaDB;Microsoft...|\n",
      "|IBM DB2;MariaDB;M...|\n",
      "|Firebase;MariaDB;...|\n",
      "|   PostgreSQL;SQLite|\n",
      "|              Oracle|\n",
      "|          PostgreSQL|\n",
      "|Elasticsearch;MyS...|\n",
      "|Microsoft SQL Ser...|\n",
      "|        MySQL;SQLite|\n",
      "|MongoDB;MySQL;Pos...|\n",
      "+--------------------+\n",
      "only showing top 20 rows\n",
      "\n"
     ]
    }
   ],
   "source": [
    "df_databases = df.select(\"DatabaseWorkedWith\").filter(\"DatabaseWorkedWith is not NULL\")\n",
    "df_databases.show()"
   ]
  },
  {
   "cell_type": "code",
   "execution_count": 42,
   "metadata": {},
   "outputs": [
    {
     "name": "stdout",
     "output_type": "stream",
     "text": [
      "+--------+--------------------+\n",
      "|Position|            Database|\n",
      "+--------+--------------------+\n",
      "|       0|       Elasticsearch|\n",
      "|       1|Microsoft SQL Server|\n",
      "|       2|              Oracle|\n",
      "|       0|               MySQL|\n",
      "|       1|          PostgreSQL|\n",
      "|       2|               Redis|\n",
      "|       3|              SQLite|\n",
      "|       0|             MariaDB|\n",
      "|       1|               MySQL|\n",
      "|       2|               Redis|\n",
      "|       0|Microsoft SQL Server|\n",
      "|       0|            Firebase|\n",
      "|       1|             MongoDB|\n",
      "|       2|          PostgreSQL|\n",
      "|       3|              SQLite|\n",
      "|       0|            Firebase|\n",
      "|       1|Microsoft SQL Server|\n",
      "|       0|               MySQL|\n",
      "|       1|              Oracle|\n",
      "|       0|          PostgreSQL|\n",
      "+--------+--------------------+\n",
      "only showing top 20 rows\n",
      "\n"
     ]
    }
   ],
   "source": [
    "from pyspark.sql.functions import split, col, posexplode\n",
    "\n",
    "df_databases_splitted = df_databases.select(posexplode(split(col(\"DatabaseWorkedWith\"), \";\")).alias(\"Position\", \"Database\"))\n",
    "df_databases_splitted.show()"
   ]
  },
  {
   "cell_type": "code",
   "execution_count": 41,
   "metadata": {},
   "outputs": [
    {
     "data": {
      "text/plain": [
       "<AxesSubplot: xlabel='Database'>"
      ]
     },
     "execution_count": 41,
     "metadata": {},
     "output_type": "execute_result"
    },
    {
     "data": {
      "image/png": "[encoded data removed]",
      "text/plain": [
       "<Figure size 640x480 with 1 Axes>"
      ]
     },
     "metadata": {},
     "output_type": "display_data"
    }
   ],
   "source": [
    "df_databases_splitted.groupBy(\"Database\").count().toPandas().plot.bar(x=\"Database\")"
   ]
  },
  {
   "cell_type": "markdown",
   "metadata": {
    "tags": []
   },
   "source": [
    "## <span style='background:yellow'> d1) Sprawdź czy można bardziej poprawić jakość predykcji dla zadania z tego notatnika: dodając cechy? </span>"
   ]
  },
  {
   "cell_type": "markdown",
   "metadata": {
    "tags": []
   },
   "source": [
    "## <span style='background:yellow'> d2) Sprawdź czy można bardziej poprawić jakość predykcji dla zadania z tego notatnika: zmieniając model? </span>"
   ]
  },
  {
   "cell_type": "markdown",
   "metadata": {
    "tags": []
   },
   "source": [
    "## <span style='background:yellow'> d3) Sprawdź czy można bardziej poprawić jakość predykcji dla zadania z tego notatnika: lepiej dobierając parametry nowego modelu? </span>"
   ]
  },
  {
   "cell_type": "code",
   "execution_count": 46,
   "metadata": {},
   "outputs": [],
   "source": [
    "spark.stop()"
   ]
  },
  {
   "cell_type": "code",
   "execution_count": null,
   "metadata": {},
   "outputs": [],
   "source": []
  }
 ],
 "metadata": {
  "kernelspec": {
   "display_name": "Python 3 (ipykernel)",
   "language": "python",
   "name": "python3"
  },
  "language_info": {
   "codemirror_mode": {
    "name": "ipython",
    "version": 3
   },
   "file_extension": ".py",
   "mimetype": "text/x-python",
   "name": "python",
   "nbconvert_exporter": "python",
   "pygments_lexer": "ipython3",
   "version": "3.10.8"
  },
  "notebook_test": {
   "keytab_path": "/data/work/home/ds-lab-testuser1/ds-lab-testuser1.keytab",
   "user": "ds-lab-testuser1"
  }
 },
 "nbformat": 4,
 "nbformat_minor": 4
}
