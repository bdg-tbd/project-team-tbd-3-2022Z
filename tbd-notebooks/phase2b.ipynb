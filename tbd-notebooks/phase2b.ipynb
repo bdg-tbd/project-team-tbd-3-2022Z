{
 "cells": [
  {
   "cell_type": "markdown",
   "metadata": {},
   "source": [
    "# TBD - etap 2b\n",
    "\n",
    "### Michał Kopyt, Rafał Kulus, Adrian Prorok"
   ]
  },
  {
   "cell_type": "markdown",
   "metadata": {},
   "source": [
    "##  Inicjalizacja sesji sparkowej, załadowanie bibliotek pyspark, SynapseML oraz pysparkling i połączenie do klastra H2O:"
   ]
  },
  {
   "cell_type": "code",
   "execution_count": 1,
   "metadata": {},
   "outputs": [
    {
     "name": "stdout",
     "output_type": "stream",
     "text": [
      "Collecting h2o_pysparkling_3.2\n",
      "  Downloading h2o_pysparkling_3.2-3.38.0.4-1.tar.gz (162.2 MB)\n",
      "\u001b[2K     \u001b[90m━━━━━━━━━━━━━━━━━━━━━━━━━━━━━━━━━━━━━━━\u001b[0m \u001b[32m162.2/162.2 MB\u001b[0m \u001b[31m3.0 MB/s\u001b[0m eta \u001b[36m0:00:00\u001b[0m00:01\u001b[0m00:01\u001b[0m\n",
      "\u001b[?25h  Preparing metadata (setup.py) ... \u001b[?25ldone\n",
      "\u001b[?25hRequirement already satisfied: requests in /opt/conda/lib/python3.10/site-packages (from h2o_pysparkling_3.2) (2.28.1)\n",
      "Collecting tabulate\n",
      "  Downloading tabulate-0.9.0-py3-none-any.whl (35 kB)\n",
      "Collecting future\n",
      "  Downloading future-0.18.2.tar.gz (829 kB)\n",
      "\u001b[2K     \u001b[90m━━━━━━━━━━━━━━━━━━━━━━━━━━━━━━━━━━━━━━\u001b[0m \u001b[32m829.2/829.2 kB\u001b[0m \u001b[31m14.2 MB/s\u001b[0m eta \u001b[36m0:00:00\u001b[0ma \u001b[36m0:00:01\u001b[0m\n",
      "\u001b[?25h  Preparing metadata (setup.py) ... \u001b[?25ldone\n",
      "\u001b[?25hRequirement already satisfied: urllib3<1.27,>=1.21.1 in /opt/conda/lib/python3.10/site-packages (from requests->h2o_pysparkling_3.2) (1.26.9)\n",
      "Requirement already satisfied: idna<4,>=2.5 in /opt/conda/lib/python3.10/site-packages (from requests->h2o_pysparkling_3.2) (3.3)\n",
      "Requirement already satisfied: certifi>=2017.4.17 in /opt/conda/lib/python3.10/site-packages (from requests->h2o_pysparkling_3.2) (2022.6.15)\n",
      "Requirement already satisfied: charset-normalizer<3,>=2 in /opt/conda/lib/python3.10/site-packages (from requests->h2o_pysparkling_3.2) (2.1.0)\n",
      "Building wheels for collected packages: h2o_pysparkling_3.2, future\n",
      "  Building wheel for h2o_pysparkling_3.2 (setup.py) ... \u001b[?25ldone\n",
      "\u001b[?25h  Created wheel for h2o_pysparkling_3.2: filename=h2o_pysparkling_3.2-3.38.0.4.post1-py2.py3-none-any.whl size=162427908 sha256=e5c113acd8802d72b1d79b9d57599950319df8e28140439fada274a7fd5caf88\n",
      "  Stored in directory: /home/jovyan/.cache/pip/wheels/8d/b1/1a/48d776d100aa559b012748271998372ccae02a056f1362d95c\n",
      "  Building wheel for future (setup.py) ... \u001b[?25ldone\n",
      "\u001b[?25h  Created wheel for future: filename=future-0.18.2-py3-none-any.whl size=491058 sha256=4e00ad4dc568ceeee29acc674116a3f0ba63db00341230a08b8d8bb6ba8286e7\n",
      "  Stored in directory: /home/jovyan/.cache/pip/wheels/22/73/06/557dc4f4ef68179b9d763930d6eec26b88ed7c389b19588a1c\n",
      "Successfully built h2o_pysparkling_3.2 future\n",
      "Installing collected packages: tabulate, future, h2o_pysparkling_3.2\n",
      "Successfully installed future-0.18.2 h2o_pysparkling_3.2-3.38.0.4.post1 tabulate-0.9.0\n",
      "Note: you may need to restart the kernel to use updated packages.\n"
     ]
    }
   ],
   "source": [
    "pip install h2o_pysparkling_3.2"
   ]
  },
  {
   "cell_type": "code",
   "execution_count": 2,
   "metadata": {},
   "outputs": [],
   "source": [
    "seed = 20031999"
   ]
  },
  {
   "cell_type": "code",
   "execution_count": 3,
   "metadata": {},
   "outputs": [
    {
     "name": "stdout",
     "output_type": "stream",
     "text": [
      "Connecting to H2O server at http://7f7568e50b58:54323 ... successful.\n"
     ]
    },
    {
     "data": {
      "text/html": [
       "\n",
       "<style>\n",
       "\n",
       "#h2o-table-1.h2o-container {\n",
       "  overflow-x: auto;\n",
       "}\n",
       "#h2o-table-1 .h2o-table {\n",
       "  /* width: 100%; */\n",
       "  margin-top: 1em;\n",
       "  margin-bottom: 1em;\n",
       "}\n",
       "#h2o-table-1 .h2o-table caption {\n",
       "  white-space: nowrap;\n",
       "  caption-side: top;\n",
       "  text-align: left;\n",
       "  /* margin-left: 1em; */\n",
       "  margin: 0;\n",
       "  font-size: larger;\n",
       "}\n",
       "#h2o-table-1 .h2o-table thead {\n",
       "  white-space: nowrap; \n",
       "  position: sticky;\n",
       "  top: 0;\n",
       "  box-shadow: 0 -1px inset;\n",
       "}\n",
       "#h2o-table-1 .h2o-table tbody {\n",
       "  overflow: auto;\n",
       "}\n",
       "#h2o-table-1 .h2o-table th,\n",
       "#h2o-table-1 .h2o-table td {\n",
       "  text-align: right;\n",
       "  /* border: 1px solid; */\n",
       "}\n",
       "#h2o-table-1 .h2o-table tr:nth-child(even) {\n",
       "  /* background: #F5F5F5 */\n",
       "}\n",
       "\n",
       "</style>      \n",
       "<div id=\"h2o-table-1\" class=\"h2o-container\">\n",
       "  <table class=\"h2o-table\">\n",
       "    <caption></caption>\n",
       "    <thead></thead>\n",
       "    <tbody><tr><td>H2O_cluster_uptime:</td>\n",
       "<td>19 secs</td></tr>\n",
       "<tr><td>H2O_cluster_timezone:</td>\n",
       "<td>Etc/UTC</td></tr>\n",
       "<tr><td>H2O_data_parsing_timezone:</td>\n",
       "<td>UTC</td></tr>\n",
       "<tr><td>H2O_cluster_version:</td>\n",
       "<td>3.38.0.4</td></tr>\n",
       "<tr><td>H2O_cluster_version_age:</td>\n",
       "<td>3 days </td></tr>\n",
       "<tr><td>H2O_cluster_name:</td>\n",
       "<td>sparkling-water-jovyan_local-1673275798979</td></tr>\n",
       "<tr><td>H2O_cluster_total_nodes:</td>\n",
       "<td>1</td></tr>\n",
       "<tr><td>H2O_cluster_free_memory:</td>\n",
       "<td>892 Mb</td></tr>\n",
       "<tr><td>H2O_cluster_total_cores:</td>\n",
       "<td>4</td></tr>\n",
       "<tr><td>H2O_cluster_allowed_cores:</td>\n",
       "<td>4</td></tr>\n",
       "<tr><td>H2O_cluster_status:</td>\n",
       "<td>locked, healthy</td></tr>\n",
       "<tr><td>H2O_connection_url:</td>\n",
       "<td>http://7f7568e50b58:54323</td></tr>\n",
       "<tr><td>H2O_connection_proxy:</td>\n",
       "<td>null</td></tr>\n",
       "<tr><td>H2O_internal_security:</td>\n",
       "<td>False</td></tr>\n",
       "<tr><td>Python_version:</td>\n",
       "<td>3.10.5 final</td></tr></tbody>\n",
       "  </table>\n",
       "</div>\n"
      ],
      "text/plain": [
       "--------------------------  ------------------------------------------\n",
       "H2O_cluster_uptime:         19 secs\n",
       "H2O_cluster_timezone:       Etc/UTC\n",
       "H2O_data_parsing_timezone:  UTC\n",
       "H2O_cluster_version:        3.38.0.4\n",
       "H2O_cluster_version_age:    3 days\n",
       "H2O_cluster_name:           sparkling-water-jovyan_local-1673275798979\n",
       "H2O_cluster_total_nodes:    1\n",
       "H2O_cluster_free_memory:    892 Mb\n",
       "H2O_cluster_total_cores:    4\n",
       "H2O_cluster_allowed_cores:  4\n",
       "H2O_cluster_status:         locked, healthy\n",
       "H2O_connection_url:         http://7f7568e50b58:54323\n",
       "H2O_connection_proxy:       null\n",
       "H2O_internal_security:      False\n",
       "Python_version:             3.10.5 final\n",
       "--------------------------  ------------------------------------------"
      ]
     },
     "metadata": {},
     "output_type": "display_data"
    },
    {
     "name": "stdout",
     "output_type": "stream",
     "text": [
      "\n",
      "Sparkling Water Context:\n",
      " * Sparkling Water Version: 3.38.0.4-1-3.2\n",
      " * H2O name: sparkling-water-jovyan_local-1673275798979\n",
      " * cluster size: 1\n",
      " * list of used nodes:\n",
      "  (executorId, host, port)\n",
      "  ------------------------\n",
      "  (0,172.17.0.2,54321)\n",
      "  ------------------------\n",
      "\n",
      "  Open H2O Flow in browser: http://7f7568e50b58:54323 (CMD + click in Mac OSX)\n",
      "\n",
      "    \n"
     ]
    }
   ],
   "source": [
    "import pyspark\n",
    "from pyspark.conf import SparkConf\n",
    "\n",
    "spark = pyspark.sql.SparkSession.builder.appName(\"tbd\") \\\n",
    "    .master(\"local[*]\") \\\n",
    "    .config(\"spark.jars.packages\", \"com.microsoft.azure:synapseml_2.12:0.9.5\") \\\n",
    "    .config(\"spark.jars.repositories\", \"https://mmlspark.azureedge.net/maven\") \\\n",
    "    .getOrCreate()\n",
    "\n",
    "from pysparkling import *\n",
    "import h2o\n",
    "hc = H2OContext.getOrCreate()"
   ]
  },
  {
   "cell_type": "markdown",
   "metadata": {},
   "source": [
    "## Importy"
   ]
  },
  {
   "cell_type": "code",
   "execution_count": 4,
   "metadata": {},
   "outputs": [],
   "source": [
    "from pyspark.sql.functions import col, to_date, month, to_timestamp, hour, regexp_replace\n",
    "from pyspark.ml.functions import vector_to_array\n",
    "from pyspark.ml import Pipeline\n",
    "from pyspark.ml.feature import StringIndexer, OneHotEncoder, VectorAssembler\n",
    "\n",
    "from timeit import default_timer as timer\n",
    "import pandas as pd\n",
    "import matplotlib.pyplot as plt\n",
    "\n",
    "from pyspark.ml.evaluation import BinaryClassificationEvaluator, MulticlassClassificationEvaluator\n",
    "from pyspark.ml.tuning import CrossValidator, ParamGridBuilder\n",
    "from sklearn.metrics import roc_auc_score, accuracy_score\n",
    "\n",
    "from pyspark.ml.classification import LogisticRegression, GBTClassifier\n",
    "from sklearn.model_selection import RepeatedStratifiedKFold, GridSearchCV\n",
    "from pysparkling.ml import H2OGLM, H2OXGBoostClassifier, H2OGridSearch\n",
    "from sklearn.linear_model import LogisticRegression as SklearnLogisticRegression\n",
    "from synapse.ml.lightgbm import LightGBMClassifier\n",
    "from synapse.ml.train import TrainClassifier, ComputeModelStatistics\n",
    "from synapse.ml.automl import FindBestModel"
   ]
  },
  {
   "cell_type": "markdown",
   "metadata": {},
   "source": [
    "## Ładowanie danych"
   ]
  },
  {
   "cell_type": "code",
   "execution_count": 5,
   "metadata": {},
   "outputs": [],
   "source": [
    "csv_path_1e4 = 'file:////home/jovyan/work/tbd-notebooks/data/ds1-1e4.csv'\n",
    "csv_path_1e5 = 'file:////home/jovyan/work/tbd-notebooks/data/ds1-1e5.csv'\n",
    "csv_path_1e6 = 'file:////home/jovyan/work/tbd-notebooks/data/ds1-1e6.csv'"
   ]
  },
  {
   "cell_type": "markdown",
   "metadata": {},
   "source": [
    "##  Przygotowanie funkcji do ładowania i przygotowania danych na podstawie wybranego pliku:"
   ]
  },
  {
   "cell_type": "markdown",
   "metadata": {},
   "source": [
    "### Dodane atrybuty\n",
    "\n",
    "- Month - zastępuje Date z oryginalnych danych, one hot encoding\n",
    "- Hour - zastępuje Time z oryginalnych danych, one hot encoding\n",
    "\n",
    "### Zmodyfikowane atrybuty\n",
    "\n",
    "- Light_Conditions - dla poprawnego działania implementacji z biblioteki SynapseML konieczne było usunięcie znaku \":\" z wartości w tej kolumnie\n",
    "\n",
    "### Usunięte atrybuty\n",
    "\n",
    "- V1\n",
    "- Accident_Index\n",
    "- Location_Easting_OSGR\n",
    "- Location_Northing_OSGR\n",
    "- Accident_Severity\n",
    "- Date - zastąpione atrybutem Month\n",
    "- Time - zastąpione atrybutem Hour\n",
    "- Local_Authority_(District)\n",
    "- Local_Authority_(Highway)\n",
    "- 1st_Road_Number\n",
    "- 2nd_Road_Number\n",
    "- LSOA_of_Accident_Location\n",
    "- Year\n",
    "\n",
    "### Ostatecznie wybrane atrybuty do uczenia i predykcji\n",
    "\n",
    "- Longitude\n",
    "- Latitude\n",
    "- Police_Force\n",
    "- Number_of_Vehicles\n",
    "- Number_of_Casualties\n",
    "- Speed_limit\n",
    "- Day_of_Week (one hot encoding)\n",
    "- 1st_Road_Class (one hot encoding)\n",
    "- Road_Type (one hot encoding)\n",
    "- Junction_Control (one hot encoding)\n",
    "- 2nd_Road_Class (one hot encoding)\n",
    "- Pedestrian_Crossing-Human_Control (one hot encoding)\n",
    "- Pedestrian_Crossing-Physical_Facilities (one hot encoding)\n",
    "- Light_Conditions (one hot encoding)\n",
    "- Weather_Conditions (one hot encoding)\n",
    "- Road_Surface_Conditions (one hot encoding)\n",
    "- Special_Conditions_at_Site (one hot encoding)\n",
    "- Carriageway_Hazards (one hot encoding)\n",
    "- Urban_or_Rural_Area (one hot encoding)\n",
    "- Did_Police_Officer_Attend_Scene_of_Accident (one hot encoding)\n",
    "- Month (one hot encoding)\n",
    "- Hour (one hot encoding)\n",
    "\n",
    "### **W otrzymanym zbiorze danych znajduje się atrybut \"Accident_Severity\", który idealnie mapuje się na naszą zmienną objaśnianą. Samo jego użycie dało by nam najlepsze możliwe do uzyskania wyniki modeli, jednak z oczywistych przyczyn na potrzeby zadania zrezygnowaliśmy z niego.**"
   ]
  },
  {
   "cell_type": "code",
   "execution_count": 6,
   "metadata": {},
   "outputs": [],
   "source": [
    "def get_features_df(csv_path):\n",
    "    df = spark.read.csv(csv_path, inferSchema=True, header=\"true\", nullValue='NA', nanValue='NA',emptyValue='NA')\n",
    "    df = df.filter('Longitude is not NULL and Latitude is not NULL')\n",
    "    df = df.withColumn('label', df.label.cast('integer'))\n",
    "    \n",
    "    df = df.withColumn('Date', to_date(df.Date, 'dd/MM/yyyy'))\n",
    "    df = df.withColumn('Month', month(df.Date))\n",
    "    df = df.withColumn('Time', to_timestamp(df.Time, 'HH:mm'))\n",
    "    df = df.withColumn('Hour', hour(df.Time))\n",
    "    \n",
    "    df = df.withColumn('Light_Conditions', regexp_replace('Light_Conditions', ':', ''))\n",
    "    \n",
    "    df = df.drop('V1', 'Accident_Index', 'Location_Easting_OSGR', 'Location_Northing_OSGR', 'Accident_Severity', 'Date', 'Time', 'Local_Authority_(District)', 'Local_Authority_(Highway)', '1st_Road_Number', '2nd_Road_Number', 'LSOA_of_Accident_Location', 'Year')\n",
    "    \n",
    "    columns_for_one_hot_encoding = ['Day_of_Week', '1st_Road_Class', 'Road_Type', 'Junction_Control', '2nd_Road_Class', 'Pedestrian_Crossing-Human_Control', 'Pedestrian_Crossing-Physical_Facilities', 'Light_Conditions', 'Weather_Conditions', 'Road_Surface_Conditions', 'Special_Conditions_at_Site', 'Carriageway_Hazards', 'Urban_or_Rural_Area', 'Did_Police_Officer_Attend_Scene_of_Accident', 'Month', 'Hour']\n",
    "    other_columns = ['Longitude', 'Latitude', 'Police_Force', 'Number_of_Vehicles', 'Number_of_Casualties', 'Speed_limit']\n",
    "\n",
    "    stringindexer_stages = [StringIndexer(inputCol=c, outputCol='stringindexed_' + c).setHandleInvalid(\"keep\") for c in columns_for_one_hot_encoding]\n",
    "    onehotencoder_stages = [OneHotEncoder(inputCol='stringindexed_' + c, outputCol='onehot_' + c) for c in columns_for_one_hot_encoding]\n",
    "\n",
    "    extracted_columns = ['onehot_' + c for c in columns_for_one_hot_encoding]\n",
    "    vectorassembler_stage = VectorAssembler(inputCols=extracted_columns + other_columns, outputCol='features')\n",
    "    \n",
    "    pipeline_stages = stringindexer_stages + onehotencoder_stages + [vectorassembler_stage]\n",
    "    \n",
    "    return Pipeline(stages=pipeline_stages).fit(df).transform(df).select(['features', 'label'])"
   ]
  },
  {
   "cell_type": "markdown",
   "metadata": {},
   "source": [
    "## Dodatkowe klasy i funkcje do eksperymentów"
   ]
  },
  {
   "cell_type": "code",
   "execution_count": 7,
   "metadata": {},
   "outputs": [],
   "source": [
    "class ModelTestingResults:\n",
    "  def __init__(self, training_time = 0, auc = 0, accuracy = 0, confusion_matrix = None):\n",
    "    self.training_time = training_time\n",
    "    self.auc = auc\n",
    "    self.accuracy = accuracy\n",
    "    self.confusion_matrix = confusion_matrix\n",
    "\n",
    "class ModelTuningResults:\n",
    "  def __init__(self, tuned_params = {}, auc = 0, accuracy = 0, confusion_matrix = None):\n",
    "    self.tuned_params = tuned_params\n",
    "    self.auc = auc\n",
    "    self.accuracy = accuracy\n",
    "    self.confusion_matrix = confusion_matrix\n",
    "\n",
    "def get_confusion_matrix(predictions_df):\n",
    "    return predictions_df.select('label', 'prediction').groupBy('label', 'prediction').count().sort(col('label'), col('prediction')).toPandas()\n",
    "\n",
    "def get_confusion_matrix_sklearn(testing_df, sklearn_pred):\n",
    "    Y_testing = testing_df.select('label').toPandas().to_numpy().ravel()\n",
    "    predictions_df = pd.DataFrame(data={'prediction': sklearn_pred, 'label': Y_testing})\n",
    "    return predictions_df.groupby(['label','prediction'])[['label','prediction']].size().reset_index(name='count').sort_values(by=['label', 'prediction']).reset_index(drop=True)\n",
    "\n",
    "def print_model_testing_results(model_testing_results, label):\n",
    "    if label:\n",
    "        print(f'----- {label} -----')\n",
    "    print(f'Czas trenowania: {round(model_testing_results.training_time, 3)}s')\n",
    "    print(f'AUC: {round(model_testing_results.auc, 3)}')\n",
    "    print(f'Accuracy: {round(model_testing_results.accuracy, 3)}')\n",
    "    print('Macierz pomyłek:')\n",
    "    print(model_testing_results.confusion_matrix)\n",
    "\n",
    "    \n",
    "def print_model_tuning_results(model_tuning_results, label):\n",
    "    if label:\n",
    "        print(f'----- {label} -----')\n",
    "    if model_tuning_results.tuned_params:\n",
    "        print('Zoptymalizowane parametry:')\n",
    "        for param in model_tuning_results.tuned_params.keys():\n",
    "            if type(model_tuning_results.tuned_params[param] == str):\n",
    "                print(f'    {param}: {model_tuning_results.tuned_params[param]}')\n",
    "            else:\n",
    "                print(f'    {param}: {round(model_tuning_results.tuned_params[param], 3)}')\n",
    "    print(f'AUC: {round(model_tuning_results.auc, 3)}')\n",
    "    print(f'Accuracy: {round(model_tuning_results.accuracy, 3)}')\n",
    "    print('Macierz pomyłek:')\n",
    "    print(model_tuning_results.confusion_matrix)"
   ]
  },
  {
   "cell_type": "markdown",
   "metadata": {},
   "source": [
    "# Przygotowanie funkcji do testowania modeli\n",
    "\n",
    "W poniższej sekcji przygotowaliśmy funkcje służące do trenowania odpowiednich modeli, ich testowania oraz przygotowania w zwięzłej formie wyników badań dla poszczególnych podpunktów niniejszego sprawozdania."
   ]
  },
  {
   "cell_type": "markdown",
   "metadata": {},
   "source": [
    "## sparkML"
   ]
  },
  {
   "cell_type": "code",
   "execution_count": 8,
   "metadata": {},
   "outputs": [],
   "source": [
    "sparkML_evaluator_auroc = BinaryClassificationEvaluator(rawPredictionCol=\"rawPrediction\", metricName=\"areaUnderROC\")\n",
    "sparkML_evaluator_accuracy = MulticlassClassificationEvaluator(labelCol=\"label\", predictionCol=\"prediction\", metricName=\"accuracy\")\n",
    "\n",
    "def test_sparkML(base_model, training_df, testing_df):\n",
    "    training_start_time = timer()\n",
    "    model = base_model.fit(training_df)\n",
    "    training_end_time = timer()\n",
    "    \n",
    "    prediction_df = model.transform(testing_df)\n",
    "    \n",
    "    return ModelTestingResults(\n",
    "        training_time=training_end_time - training_start_time,\n",
    "        auc=sparkML_evaluator_auroc.evaluate(prediction_df),\n",
    "        accuracy=sparkML_evaluator_accuracy.evaluate(prediction_df),\n",
    "        confusion_matrix=get_confusion_matrix(prediction_df)\n",
    "    )\n",
    "\n",
    "def test_sparkML_lr_basic_version(training_df, testing_df):\n",
    "    sparkML_lr = LogisticRegression()\n",
    "    return test_sparkML(sparkML_lr, training_df, testing_df)\n",
    "\n",
    "def test_sparkML_gbt_basic_version(training_df, testing_df):\n",
    "    sparkML_gbt = GBTClassifier()\n",
    "    return test_sparkML(sparkML_gbt, training_df, testing_df)\n",
    "\n",
    "def tune_and_test_sparkML_lr(training_df, testing_df):\n",
    "    sparkML_lr = LogisticRegression()\n",
    "\n",
    "    param_grid = ParamGridBuilder() \\\n",
    "        .addGrid(sparkML_lr.regParam,[0.0, 0.005, 0.01, 0.015, 0.02, 0.025]) \\\n",
    "        .addGrid(sparkML_lr.elasticNetParam, [0.0, 0.5, 0.55, 0.6, 0.65, 0.7]) \\\n",
    "        .build()\n",
    "    cv = CrossValidator(estimator=sparkML_lr, estimatorParamMaps=param_grid, evaluator=sparkML_evaluator_auroc, numFolds=4)\n",
    "    cv_model = cv.fit(training_df)\n",
    "    best_model = cv_model.bestModel\n",
    "\n",
    "    prediction_df = best_model.transform(testing_df)\n",
    "    tuned_params = {\n",
    "        'regParam': best_model.extractParamMap().get(sparkML_lr.regParam),\n",
    "        'elasticNetParam': best_model.extractParamMap().get(sparkML_lr.elasticNetParam)\n",
    "    }\n",
    "    \n",
    "    return ModelTuningResults(\n",
    "        tuned_params=tuned_params,\n",
    "        auc=sparkML_evaluator_auroc.evaluate(prediction_df),\n",
    "        accuracy=sparkML_evaluator_accuracy.evaluate(prediction_df),\n",
    "        confusion_matrix=get_confusion_matrix(prediction_df)\n",
    "    )\n",
    "\n",
    "def tune_and_test_sparkML_gbt(training_df, testing_df):\n",
    "    sparkML_gbt = GBTClassifier()\n",
    "    \n",
    "    param_grid = ParamGridBuilder() \\\n",
    "        .addGrid(sparkML_gbt.maxDepth, [5, 10, 15]) \\\n",
    "        .addGrid(sparkML_gbt.maxBins, [16, 32, 64]) \\\n",
    "        .build()\n",
    "    cv = CrossValidator(estimator=sparkML_gbt, estimatorParamMaps=param_grid, evaluator=sparkML_evaluator_auroc, numFolds=4)\n",
    "    cv_model = cv.fit(training_df)\n",
    "    best_model = cv_model.bestModel\n",
    "\n",
    "    prediction_df = best_model.transform(testing_df)\n",
    "    tuned_params = {\n",
    "        'maxDepth': best_model.extractParamMap().get(sparkML_gbt.maxDepth),\n",
    "        'maxBins': best_model.extractParamMap().get(sparkML_gbt.maxBins)\n",
    "    }\n",
    "    \n",
    "    return ModelTuningResults(\n",
    "        tuned_params=tuned_params,\n",
    "        auc=sparkML_evaluator_auroc.evaluate(prediction_df),\n",
    "        accuracy=sparkML_evaluator_accuracy.evaluate(prediction_df),\n",
    "        confusion_matrix=get_confusion_matrix(prediction_df)\n",
    "    )"
   ]
  },
  {
   "cell_type": "markdown",
   "metadata": {},
   "source": [
    "## H2O-sparklinkg-water"
   ]
  },
  {
   "cell_type": "code",
   "execution_count": 9,
   "metadata": {},
   "outputs": [],
   "source": [
    "def test_h2o(base_model, training_df, testing_df):\n",
    "    training_start_time = timer()\n",
    "    model = base_model.fit(training_df)\n",
    "    training_end_time = timer()\n",
    "    \n",
    "    prediction_df = model.transform(testing_df)\n",
    "    predicted_labels_for_testing_data = prediction_df.withColumn('prediction', prediction_df.prediction.cast('int')).select('prediction').toPandas().to_numpy().ravel()\n",
    "    labels_for_testing_data = prediction_df.select('label').toPandas().to_numpy().ravel()\n",
    "    probabilities_for_1 = prediction_df.withColumn('detailed_prediction', col('detailed_prediction').probabilities['1']).select('detailed_prediction').toPandas().to_numpy().ravel()\n",
    "    \n",
    "    return ModelTestingResults(\n",
    "        training_time=training_end_time - training_start_time,\n",
    "        auc=roc_auc_score(labels_for_testing_data, probabilities_for_1),\n",
    "        accuracy=accuracy_score(labels_for_testing_data, predicted_labels_for_testing_data),\n",
    "        confusion_matrix=get_confusion_matrix(prediction_df)\n",
    "    )\n",
    "    \n",
    "def test_h2o_lr_basic_version(training_df, testing_df):\n",
    "    h2o_lr = H2OGLM(\n",
    "        family=\"binomial\",\n",
    "        featuresCols=['features'],\n",
    "        labelCol='label'\n",
    "    )\n",
    "    return test_h2o(h2o_lr, training_df, testing_df)\n",
    "\n",
    "def test_h2o_gbt_basic_version(training_df, testing_df):\n",
    "    h2o_gbt = H2OXGBoostClassifier(featuresCols=['features'], labelCol='label')\n",
    "    return test_h2o(h2o_gbt, training_df, testing_df)\n",
    "\n",
    "def tune_and_test_h2o_lr(training_df, testing_df):\n",
    "    h2o_lr = H2OGLM(\n",
    "        family=\"binomial\",\n",
    "        featuresCols=['features'],\n",
    "        labelCol='label'\n",
    "    )\n",
    "    \n",
    "    param_grid = {\n",
    "        'alphaValue': [0.0, 0.5, 1.0] ,\n",
    "        'lambdaValue': [0.0, 0.5, 1.0]\n",
    "    }\n",
    "    \n",
    "    grid_search = H2OGridSearch(hyperParameters=param_grid, algo=h2o_lr, strategy=\"Cartesian\")\n",
    "    model = grid_search.fit(training_df)\n",
    "    \n",
    "    tuned_params = {\n",
    "        'alphaValue': model.getAlphaValue()[0],\n",
    "        'lambdaValue': model.getLambdaValue()[0]\n",
    "    }\n",
    "    \n",
    "    prediction_df = model.transform(testing_df)\n",
    "    predicted_labels_for_testing_data = prediction_df.withColumn('prediction', prediction_df.prediction.cast('int')).select('prediction').toPandas().to_numpy().ravel()\n",
    "    labels_for_testing_data = prediction_df.select('label').toPandas().to_numpy().ravel()\n",
    "    probabilities_for_1 = prediction_df.withColumn('detailed_prediction', col('detailed_prediction').probabilities['1']).select('detailed_prediction').toPandas().to_numpy().ravel()\n",
    "    \n",
    "    return ModelTuningResults(\n",
    "        tuned_params=tuned_params,\n",
    "        auc=roc_auc_score(labels_for_testing_data, probabilities_for_1),\n",
    "        accuracy=accuracy_score(labels_for_testing_data, predicted_labels_for_testing_data),\n",
    "        confusion_matrix=get_confusion_matrix(prediction_df)\n",
    "    )\n",
    "\n",
    "def tune_and_test_h2o_gbt(training_df, testing_df):\n",
    "    h2o_gbt = H2OXGBoostClassifier(featuresCols=['features'], labelCol='label')\n",
    "    \n",
    "    param_grid = {\n",
    "        'learnRate': [0.1, 0.2, 0.3, 0.4],\n",
    "        'maxDepth': [6, 64],\n",
    "    }\n",
    "    \n",
    "    grid_search = H2OGridSearch(hyperParameters=param_grid, algo=h2o_gbt, strategy=\"Cartesian\")\n",
    "    model = grid_search.fit(training_df)\n",
    "    \n",
    "    tuned_params = {\n",
    "        'learnRate': model.getLearnRate(),\n",
    "        'maxDepth': model.getMaxDepth()\n",
    "    }\n",
    "    \n",
    "    prediction_df = model.transform(testing_df)\n",
    "    predicted_labels_for_testing_data = prediction_df.withColumn('prediction', prediction_df.prediction.cast('int')).select('prediction').toPandas().to_numpy().ravel()\n",
    "    labels_for_testing_data = prediction_df.select('label').toPandas().to_numpy().ravel()\n",
    "    probabilities_for_1 = prediction_df.withColumn('detailed_prediction', col('detailed_prediction').probabilities['1']).select('detailed_prediction').toPandas().to_numpy().ravel()\n",
    "    \n",
    "    return ModelTuningResults(\n",
    "        tuned_params=tuned_params,\n",
    "        auc=roc_auc_score(labels_for_testing_data, probabilities_for_1),\n",
    "        accuracy=accuracy_score(labels_for_testing_data, predicted_labels_for_testing_data),\n",
    "        confusion_matrix=get_confusion_matrix(prediction_df)\n",
    "    )"
   ]
  },
  {
   "cell_type": "markdown",
   "metadata": {},
   "source": [
    "## scikit-learn (do implementacji nierozproszonej)"
   ]
  },
  {
   "cell_type": "code",
   "execution_count": 10,
   "metadata": {},
   "outputs": [],
   "source": [
    "import warnings\n",
    "\n",
    "warnings.simplefilter(action='ignore', category=pd.errors.PerformanceWarning)\n",
    "\n",
    "def get_sklearn_X_and_y(data_df):\n",
    "    features_num = data_df.first().features.size\n",
    "    X = data_df.withColumn('x', vector_to_array('features')).select([col('x')[i] for i in range(features_num)]).toPandas()\n",
    "    y = data_df.select('label').toPandas().to_numpy().ravel()\n",
    "    return X, y\n",
    "\n",
    "def test_sklearn_lr_basic_version(training_df, testing_df):\n",
    "    sklearn_lr = SklearnLogisticRegression()\n",
    "    \n",
    "    training_start_time = timer()\n",
    "    X, y = get_sklearn_X_and_y(training_df)\n",
    "    model = sklearn_lr.fit(X, y)\n",
    "    training_end_time = timer()\n",
    "    \n",
    "    X_testing, y_testing = get_sklearn_X_and_y(testing_df)\n",
    "    prediction_df = model.predict(X_testing)\n",
    "    \n",
    "    return ModelTestingResults(\n",
    "        training_time=training_end_time - training_start_time,\n",
    "        auc=roc_auc_score(y_testing, model.predict_proba(X_testing)[::, 1]),\n",
    "        accuracy=accuracy_score(y_testing, prediction_df),\n",
    "        confusion_matrix=get_confusion_matrix_sklearn(testing_df, prediction_df)\n",
    "    )\n",
    "\n",
    "def tune_and_test_sklearn_lr(training_df, testing_df):\n",
    "    sklearn_lr = SklearnLogisticRegression(max_iter=200, n_jobs=-1)\n",
    "    # sklearn_lr = SklearnLogisticRegression()\n",
    "    \n",
    "    param_grid = {\n",
    "        'solver': ['lbfgs', 'liblinear'],\n",
    "        'penalty': ['l2'],\n",
    "        'C': [0.1, 1.0, 10]\n",
    "    }\n",
    "    \n",
    "    cv = RepeatedStratifiedKFold(n_splits=4, n_repeats=1, random_state=1)\n",
    "    grid_search = GridSearchCV(estimator=sklearn_lr, param_grid=param_grid, cv=cv, scoring='roc_auc',error_score=0)\n",
    "    X, y = get_sklearn_X_and_y(training_df)\n",
    "    model = grid_search.fit(X, y)\n",
    "        \n",
    "    X_testing, y_testing = get_sklearn_X_and_y(testing_df)\n",
    "    prediction_df = model.predict(X_testing)\n",
    "    \n",
    "    return ModelTuningResults(\n",
    "        tuned_params=model.best_params_,\n",
    "        auc=roc_auc_score(y_testing, model.predict_proba(X_testing)[::, 1]),\n",
    "        accuracy=accuracy_score(y_testing, prediction_df),\n",
    "        confusion_matrix=get_confusion_matrix_sklearn(testing_df, prediction_df)\n",
    "    )"
   ]
  },
  {
   "cell_type": "markdown",
   "metadata": {},
   "source": [
    "## SynapseML"
   ]
  },
  {
   "cell_type": "code",
   "execution_count": 11,
   "metadata": {},
   "outputs": [],
   "source": [
    "def test_synapseML(base_model, training_df, testing_df):\n",
    "    return test_sparkML(base_model, training_df, testing_df) # Ten sam kod\n",
    "\n",
    "def test_synapseML_gbt_basic_version(training_df, testing_df):\n",
    "    synapseML_gbt = LightGBMClassifier(objective=\"binary\", featuresCol=\"features\", labelCol=\"label\")\n",
    "    return test_synapseML(synapseML_gbt, training_df, testing_df)\n",
    "\n",
    "def tune_and_test_synapseML_gbt(training_df, testing_df):\n",
    "    learning_rates = [0.05, 0.1, 0.2, 0.4]\n",
    "    synapseML_gbt_list = [\n",
    "        LightGBMClassifier(objective=\"binary\", featuresCol=\"features\", labelCol=\"label\", learningRate=lr) for lr in learning_rates\n",
    "    ]\n",
    "    synapseML_gbt_models = [\n",
    "        TrainClassifier(model=gbt, labelCol='label').fit(training_df) for gbt in synapseML_gbt_list\n",
    "    ]    \n",
    "    model = FindBestModel(evaluationMetric=\"AUC\", models=synapseML_gbt_models).fit(testing_df)\n",
    "    prediction_df = model.transform(testing_df)\n",
    "    \n",
    "    return ModelTuningResults(\n",
    "        auc=sparkML_evaluator_auroc.evaluate(prediction_df),\n",
    "        accuracy=sparkML_evaluator_accuracy.evaluate(prediction_df),\n",
    "        confusion_matrix=get_confusion_matrix(prediction_df)\n",
    "    )"
   ]
  },
  {
   "cell_type": "markdown",
   "metadata": {
    "tags": []
   },
   "source": [
    "# **Regresja logistyczna - porównanie wyników klasyfikacji oraz czasu trenowania podstawowych wersji modeli dla różnych wielkości zbiorów danych**\n",
    "\n",
    "Dla każdego otrzymanego zbioru danych, przeprowadziliśmy trenowanie podstawowych wersji (z domyślnymi parametrami) modeli typu regresja logistyczna. Ich implementacje zaczerpnęliśmy z trzech bibliotek: Spark, h2o-sparkling-water oraz scikit-learn (implementacja nierozproszona). Podczas trenowania mierzyliśmy jego czas, a następnie dla otrzymanych modeli sprawdziliśmy na zbiorze testowym wartości AUC, Accuracy oraz macierz pomyłek."
   ]
  },
  {
   "cell_type": "markdown",
   "metadata": {
    "tags": []
   },
   "source": [
    "## Zbiór danych 1e4"
   ]
  },
  {
   "cell_type": "code",
   "execution_count": 12,
   "metadata": {
    "tags": []
   },
   "outputs": [],
   "source": [
    "training_df_1e4, testing_df_1e4 = get_features_df(csv_path_1e4).randomSplit([0.8, 0.2], seed=seed)"
   ]
  },
  {
   "cell_type": "code",
   "execution_count": 13,
   "metadata": {},
   "outputs": [
    {
     "name": "stdout",
     "output_type": "stream",
     "text": [
      "----- Regresja logistyczna, sparkML, zbiór 1e4, podstawowe hiperparametry, domyślna liczba wątków -----\n",
      "Czas trenowania: 7.959s\n",
      "AUC: 0.646\n",
      "Accuracy: 0.836\n",
      "Macierz pomyłek:\n",
      "   label  prediction  count\n",
      "0      0         0.0      2\n",
      "1      0         1.0    326\n",
      "2      1         0.0      7\n",
      "3      1         1.0   1698\n"
     ]
    }
   ],
   "source": [
    "sparkML_lr_basic_1e4_results = test_sparkML_lr_basic_version(training_df_1e4, testing_df_1e4)\n",
    "\n",
    "label_sparkML_lr_basic_1e4_results = 'Regresja logistyczna, sparkML, zbiór 1e4, podstawowe hiperparametry, domyślna liczba wątków'\n",
    "print_model_testing_results(sparkML_lr_basic_1e4_results, label_sparkML_lr_basic_1e4_results)"
   ]
  },
  {
   "cell_type": "code",
   "execution_count": 14,
   "metadata": {},
   "outputs": [
    {
     "name": "stdout",
     "output_type": "stream",
     "text": [
      "----- Regresja logistyczna, H2O-sparkling-water, zbiór 1e4, podstawowe hiperparametry, domyślna liczba wątków -----\n",
      "Czas trenowania: 3.987s\n",
      "AUC: 0.646\n",
      "Accuracy: 0.837\n",
      "Macierz pomyłek:\n",
      "   label prediction  count\n",
      "0      0          0      2\n",
      "1      0          1    326\n",
      "2      1          0      6\n",
      "3      1          1   1699\n"
     ]
    }
   ],
   "source": [
    "h2o_lr_basic_1e4_results = test_h2o_lr_basic_version(training_df_1e4, testing_df_1e4)\n",
    "\n",
    "label_h2o_lr_basic_1e4_results = 'Regresja logistyczna, H2O-sparkling-water, zbiór 1e4, podstawowe hiperparametry, domyślna liczba wątków'\n",
    "print_model_testing_results(h2o_lr_basic_1e4_results, label_h2o_lr_basic_1e4_results)"
   ]
  },
  {
   "cell_type": "code",
   "execution_count": 15,
   "metadata": {},
   "outputs": [
    {
     "name": "stderr",
     "output_type": "stream",
     "text": [
      "lbfgs failed to converge (status=1):\n",
      "STOP: TOTAL NO. of ITERATIONS REACHED LIMIT.\n",
      "\n",
      "Increase the number of iterations (max_iter) or scale the data as shown in:\n",
      "    https://scikit-learn.org/stable/modules/preprocessing.html\n",
      "Please also refer to the documentation for alternative solver options:\n",
      "    https://scikit-learn.org/stable/modules/linear_model.html#logistic-regression\n"
     ]
    },
    {
     "name": "stdout",
     "output_type": "stream",
     "text": [
      "----- Regresja logistyczna, scikit-learn, zbiór 1e4, podstawowe hiperparametry, domyślna liczba wątków -----\n",
      "Czas trenowania: 3.289s\n",
      "AUC: 0.646\n",
      "Accuracy: 0.839\n",
      "Macierz pomyłek:\n",
      "   label  prediction  count\n",
      "0      0           0      3\n",
      "1      0           1    325\n",
      "2      1           0      3\n",
      "3      1           1   1702\n"
     ]
    }
   ],
   "source": [
    "sklearn_lr_basic_1e4_results = test_sklearn_lr_basic_version(training_df_1e4, testing_df_1e4)\n",
    "\n",
    "label_sklearn_lr_basic_1e4_results = 'Regresja logistyczna, scikit-learn, zbiór 1e4, podstawowe hiperparametry, domyślna liczba wątków'\n",
    "print_model_testing_results(sklearn_lr_basic_1e4_results, label_sklearn_lr_basic_1e4_results)"
   ]
  },
  {
   "cell_type": "markdown",
   "metadata": {
    "tags": []
   },
   "source": [
    "## Zbiór danych 1e5"
   ]
  },
  {
   "cell_type": "code",
   "execution_count": 16,
   "metadata": {},
   "outputs": [],
   "source": [
    "training_df_1e5, testing_df_1e5 = get_features_df(csv_path_1e5).randomSplit([0.8, 0.2], seed=seed)"
   ]
  },
  {
   "cell_type": "code",
   "execution_count": 17,
   "metadata": {},
   "outputs": [
    {
     "name": "stdout",
     "output_type": "stream",
     "text": [
      "----- Regresja logistyczna, sparkML, zbiór 1e5, podstawowe hiperparametry, domyślna liczba wątków -----\n",
      "Czas trenowania: 9.285s\n",
      "AUC: 0.662\n",
      "Accuracy: 0.849\n",
      "Macierz pomyłek:\n",
      "   label  prediction  count\n",
      "0      0         0.0     11\n",
      "1      0         1.0   2998\n",
      "2      1         0.0     13\n",
      "3      1         1.0  16870\n"
     ]
    }
   ],
   "source": [
    "sparkML_lr_basic_1e5_results = test_sparkML_lr_basic_version(training_df_1e5, testing_df_1e5)\n",
    "\n",
    "label_sparkML_lr_basic_1e5_results = 'Regresja logistyczna, sparkML, zbiór 1e5, podstawowe hiperparametry, domyślna liczba wątków'\n",
    "print_model_testing_results(sparkML_lr_basic_1e5_results, label_sparkML_lr_basic_1e5_results)"
   ]
  },
  {
   "cell_type": "code",
   "execution_count": 18,
   "metadata": {},
   "outputs": [
    {
     "name": "stdout",
     "output_type": "stream",
     "text": [
      "----- Regresja logistyczna, H2O-sparkling-water, zbiór 1e5, podstawowe hiperparametry, domyślna liczba wątków -----\n",
      "Czas trenowania: 5.908s\n",
      "AUC: 0.662\n",
      "Accuracy: 0.848\n",
      "Macierz pomyłek:\n",
      "   label prediction  count\n",
      "0      0          0     16\n",
      "1      0          1   2993\n",
      "2      1          0     21\n",
      "3      1          1  16862\n"
     ]
    }
   ],
   "source": [
    "h2o_lr_basic_1e5_results = test_h2o_lr_basic_version(training_df_1e5, testing_df_1e5)\n",
    "\n",
    "label_h2o_lr_basic_1e5_results = 'Regresja logistyczna, H2O-sparkling-water, zbiór 1e5, podstawowe hiperparametry, domyślna liczba wątków'\n",
    "print_model_testing_results(h2o_lr_basic_1e5_results, label_h2o_lr_basic_1e5_results)"
   ]
  },
  {
   "cell_type": "code",
   "execution_count": 19,
   "metadata": {},
   "outputs": [
    {
     "name": "stderr",
     "output_type": "stream",
     "text": [
      "lbfgs failed to converge (status=1):\n",
      "STOP: TOTAL NO. of ITERATIONS REACHED LIMIT.\n",
      "\n",
      "Increase the number of iterations (max_iter) or scale the data as shown in:\n",
      "    https://scikit-learn.org/stable/modules/preprocessing.html\n",
      "Please also refer to the documentation for alternative solver options:\n",
      "    https://scikit-learn.org/stable/modules/linear_model.html#logistic-regression\n"
     ]
    },
    {
     "name": "stdout",
     "output_type": "stream",
     "text": [
      "----- Regresja logistyczna, scikit-learn, zbiór 1e5, podstawowe hiperparametry, domyślna liczba wątków -----\n",
      "Czas trenowania: 13.472s\n",
      "AUC: 0.658\n",
      "Accuracy: 0.849\n",
      "Macierz pomyłek:\n",
      "   label  prediction  count\n",
      "0      0           0      8\n",
      "1      0           1   3001\n",
      "2      1           0      8\n",
      "3      1           1  16875\n"
     ]
    }
   ],
   "source": [
    "sklearn_lr_basic_1e5_results = test_sklearn_lr_basic_version(training_df_1e5, testing_df_1e5)\n",
    "\n",
    "label_sklearn_lr_basic_1e5_results = 'Regresja logistyczna, scikit-learn, zbiór 1e5, podstawowe hiperparametry, domyślna liczba wątków'\n",
    "print_model_testing_results(sklearn_lr_basic_1e5_results, label_sklearn_lr_basic_1e5_results)"
   ]
  },
  {
   "cell_type": "markdown",
   "metadata": {},
   "source": [
    "## Zbiór danych 1e6"
   ]
  },
  {
   "cell_type": "code",
   "execution_count": 20,
   "metadata": {},
   "outputs": [],
   "source": [
    "training_df_1e6, testing_df_1e6 = get_features_df(csv_path_1e6).randomSplit([0.8, 0.2], seed=seed)"
   ]
  },
  {
   "cell_type": "code",
   "execution_count": 21,
   "metadata": {},
   "outputs": [
    {
     "name": "stdout",
     "output_type": "stream",
     "text": [
      "----- Regresja logistyczna, sparkML, zbiór 1e6, podstawowe hiperparametry, domyślna liczba wątków -----\n",
      "Czas trenowania: 27.339s\n",
      "AUC: 0.665\n",
      "Accuracy: 0.852\n",
      "Macierz pomyłek:\n",
      "   label  prediction   count\n",
      "0      0         0.0     130\n",
      "1      0         1.0   29553\n",
      "2      1         0.0      90\n",
      "3      1         1.0  170283\n"
     ]
    }
   ],
   "source": [
    "sparkML_lr_basic_1e6_results = test_sparkML_lr_basic_version(training_df_1e6, testing_df_1e6)\n",
    "\n",
    "label_sparkML_lr_basic_1e6_results = 'Regresja logistyczna, sparkML, zbiór 1e6, podstawowe hiperparametry, domyślna liczba wątków'\n",
    "print_model_testing_results(sparkML_lr_basic_1e6_results, label_sparkML_lr_basic_1e6_results)"
   ]
  },
  {
   "cell_type": "code",
   "execution_count": 22,
   "metadata": {},
   "outputs": [
    {
     "name": "stdout",
     "output_type": "stream",
     "text": [
      "----- Regresja logistyczna, H2O-sparkling-water, zbiór 1e6, podstawowe hiperparametry, domyślna liczba wątków -----\n",
      "Czas trenowania: 31.129s\n",
      "AUC: 0.665\n",
      "Accuracy: 0.852\n",
      "Macierz pomyłek:\n",
      "   label prediction   count\n",
      "0      0          0       5\n",
      "1      0          1   29678\n",
      "2      1          0       2\n",
      "3      1          1  170371\n"
     ]
    }
   ],
   "source": [
    "h2o_lr_basic_1e6_results = test_h2o_lr_basic_version(training_df_1e6, testing_df_1e6)\n",
    "\n",
    "label_h2o_lr_basic_1e6_results = 'Regresja logistyczna, H2O-sparkling-water, zbiór 1e6, podstawowe hiperparametry, domyślna liczba wątków'\n",
    "print_model_testing_results(h2o_lr_basic_1e6_results, label_h2o_lr_basic_1e6_results)"
   ]
  },
  {
   "cell_type": "code",
   "execution_count": 23,
   "metadata": {},
   "outputs": [
    {
     "name": "stderr",
     "output_type": "stream",
     "text": [
      "lbfgs failed to converge (status=1):\n",
      "STOP: TOTAL NO. of ITERATIONS REACHED LIMIT.\n",
      "\n",
      "Increase the number of iterations (max_iter) or scale the data as shown in:\n",
      "    https://scikit-learn.org/stable/modules/preprocessing.html\n",
      "Please also refer to the documentation for alternative solver options:\n",
      "    https://scikit-learn.org/stable/modules/linear_model.html#logistic-regression\n"
     ]
    },
    {
     "name": "stdout",
     "output_type": "stream",
     "text": [
      "----- Regresja logistyczna, scikit-learn, zbiór 1e6, podstawowe hiperparametry, domyślna liczba wątków -----\n",
      "Czas trenowania: 115.326s\n",
      "AUC: 0.66\n",
      "Accuracy: 0.852\n",
      "Macierz pomyłek:\n",
      "   label  prediction   count\n",
      "0      0           0     112\n",
      "1      0           1   29571\n",
      "2      1           0      93\n",
      "3      1           1  170280\n"
     ]
    }
   ],
   "source": [
    "sklearn_lr_basic_1e6_results = test_sklearn_lr_basic_version(training_df_1e6, testing_df_1e6)\n",
    "\n",
    "label_sklearn_lr_basic_1e6_results = 'Regresja logistyczna, scikit-learn, zbiór 1e6, podstawowe hiperparametry, domyślna liczba wątków'\n",
    "print_model_testing_results(sklearn_lr_basic_1e6_results, label_sklearn_lr_basic_1e6_results)"
   ]
  },
  {
   "cell_type": "markdown",
   "metadata": {
    "tags": []
   },
   "source": [
    "## Analiza wyników"
   ]
  },
  {
   "cell_type": "code",
   "execution_count": 24,
   "metadata": {},
   "outputs": [
    {
     "data": {
      "text/html": [
       "<div>\n",
       "<style scoped>\n",
       "    .dataframe tbody tr th:only-of-type {\n",
       "        vertical-align: middle;\n",
       "    }\n",
       "\n",
       "    .dataframe tbody tr th {\n",
       "        vertical-align: top;\n",
       "    }\n",
       "\n",
       "    .dataframe thead th {\n",
       "        text-align: right;\n",
       "    }\n",
       "</style>\n",
       "<table border=\"1\" class=\"dataframe\">\n",
       "  <thead>\n",
       "    <tr style=\"text-align: right;\">\n",
       "      <th></th>\n",
       "      <th>Zbiór danych</th>\n",
       "      <th>Biblioteka</th>\n",
       "      <th>Czas trenowania (s)</th>\n",
       "      <th>AUC</th>\n",
       "      <th>Accuracy</th>\n",
       "    </tr>\n",
       "  </thead>\n",
       "  <tbody>\n",
       "    <tr>\n",
       "      <th>0</th>\n",
       "      <td>1e4</td>\n",
       "      <td>sparkML</td>\n",
       "      <td>7.959311</td>\n",
       "      <td>0.645819</td>\n",
       "      <td>0.836203</td>\n",
       "    </tr>\n",
       "    <tr>\n",
       "      <th>1</th>\n",
       "      <td>1e4</td>\n",
       "      <td>h2o-sparkling-water</td>\n",
       "      <td>3.987009</td>\n",
       "      <td>0.645907</td>\n",
       "      <td>0.836695</td>\n",
       "    </tr>\n",
       "    <tr>\n",
       "      <th>2</th>\n",
       "      <td>1e4</td>\n",
       "      <td>scikit-learn</td>\n",
       "      <td>3.289218</td>\n",
       "      <td>0.645725</td>\n",
       "      <td>0.838662</td>\n",
       "    </tr>\n",
       "    <tr>\n",
       "      <th>3</th>\n",
       "      <td>1e5</td>\n",
       "      <td>sparkML</td>\n",
       "      <td>9.285050</td>\n",
       "      <td>0.662135</td>\n",
       "      <td>0.848633</td>\n",
       "    </tr>\n",
       "    <tr>\n",
       "      <th>4</th>\n",
       "      <td>1e5</td>\n",
       "      <td>h2o-sparkling-water</td>\n",
       "      <td>5.908199</td>\n",
       "      <td>0.662145</td>\n",
       "      <td>0.848482</td>\n",
       "    </tr>\n",
       "    <tr>\n",
       "      <th>5</th>\n",
       "      <td>1e5</td>\n",
       "      <td>scikit-learn</td>\n",
       "      <td>13.471524</td>\n",
       "      <td>0.658434</td>\n",
       "      <td>0.848733</td>\n",
       "    </tr>\n",
       "    <tr>\n",
       "      <th>6</th>\n",
       "      <td>1e6</td>\n",
       "      <td>sparkML</td>\n",
       "      <td>27.339342</td>\n",
       "      <td>0.664876</td>\n",
       "      <td>0.851826</td>\n",
       "    </tr>\n",
       "    <tr>\n",
       "      <th>7</th>\n",
       "      <td>1e6</td>\n",
       "      <td>h2o-sparkling-water</td>\n",
       "      <td>31.129486</td>\n",
       "      <td>0.664882</td>\n",
       "      <td>0.851642</td>\n",
       "    </tr>\n",
       "    <tr>\n",
       "      <th>8</th>\n",
       "      <td>1e6</td>\n",
       "      <td>scikit-learn</td>\n",
       "      <td>115.326317</td>\n",
       "      <td>0.660399</td>\n",
       "      <td>0.851722</td>\n",
       "    </tr>\n",
       "  </tbody>\n",
       "</table>\n",
       "</div>"
      ],
      "text/plain": [
       "  Zbiór danych           Biblioteka  Czas trenowania (s)       AUC  Accuracy\n",
       "0          1e4              sparkML             7.959311  0.645819  0.836203\n",
       "1          1e4  h2o-sparkling-water             3.987009  0.645907  0.836695\n",
       "2          1e4         scikit-learn             3.289218  0.645725  0.838662\n",
       "3          1e5              sparkML             9.285050  0.662135  0.848633\n",
       "4          1e5  h2o-sparkling-water             5.908199  0.662145  0.848482\n",
       "5          1e5         scikit-learn            13.471524  0.658434  0.848733\n",
       "6          1e6              sparkML            27.339342  0.664876  0.851826\n",
       "7          1e6  h2o-sparkling-water            31.129486  0.664882  0.851642\n",
       "8          1e6         scikit-learn           115.326317  0.660399  0.851722"
      ]
     },
     "execution_count": 24,
     "metadata": {},
     "output_type": "execute_result"
    }
   ],
   "source": [
    "models_lr_basic_scores_data = [\n",
    "    ['1e4', 'sparkML', sparkML_lr_basic_1e4_results.training_time, sparkML_lr_basic_1e4_results.auc, sparkML_lr_basic_1e4_results.accuracy],\n",
    "    ['1e4', 'h2o-sparkling-water', h2o_lr_basic_1e4_results.training_time, h2o_lr_basic_1e4_results.auc, h2o_lr_basic_1e4_results.accuracy],\n",
    "    ['1e4', 'scikit-learn', sklearn_lr_basic_1e4_results.training_time, sklearn_lr_basic_1e4_results.auc, sklearn_lr_basic_1e4_results.accuracy],\n",
    "    ['1e5', 'sparkML', sparkML_lr_basic_1e5_results.training_time, sparkML_lr_basic_1e5_results.auc, sparkML_lr_basic_1e5_results.accuracy],\n",
    "    ['1e5', 'h2o-sparkling-water', h2o_lr_basic_1e5_results.training_time, h2o_lr_basic_1e5_results.auc, h2o_lr_basic_1e5_results.accuracy],\n",
    "    ['1e5', 'scikit-learn', sklearn_lr_basic_1e5_results.training_time, sklearn_lr_basic_1e5_results.auc, sklearn_lr_basic_1e5_results.accuracy],\n",
    "    ['1e6', 'sparkML', sparkML_lr_basic_1e6_results.training_time, sparkML_lr_basic_1e6_results.auc, sparkML_lr_basic_1e6_results.accuracy],\n",
    "    ['1e6', 'h2o-sparkling-water', h2o_lr_basic_1e6_results.training_time, h2o_lr_basic_1e6_results.auc, h2o_lr_basic_1e6_results.accuracy],\n",
    "    ['1e6', 'scikit-learn', sklearn_lr_basic_1e6_results.training_time, sklearn_lr_basic_1e6_results.auc, sklearn_lr_basic_1e6_results.accuracy],\n",
    "]\n",
    "\n",
    "models_lr_basic_scores_df = pd.DataFrame(models_lr_basic_scores_data, columns=['Zbiór danych', 'Biblioteka', 'Czas trenowania (s)', 'AUC', 'Accuracy'])\n",
    "models_lr_basic_scores_df"
   ]
  },
  {
   "cell_type": "code",
   "execution_count": 25,
   "metadata": {},
   "outputs": [
    {
     "data": {
      "image/png": "[encoded data removed]",
      "text/plain": [
       "<Figure size 432x288 with 1 Axes>"
      ]
     },
     "metadata": {
      "needs_background": "light"
     },
     "output_type": "display_data"
    }
   ],
   "source": [
    "lr_basic_models_training_times_data = [\n",
    "    [sparkML_lr_basic_1e4_results.training_time, h2o_lr_basic_1e4_results.training_time, sklearn_lr_basic_1e4_results.training_time],\n",
    "    [sparkML_lr_basic_1e5_results.training_time, h2o_lr_basic_1e5_results.training_time, sklearn_lr_basic_1e5_results.training_time],\n",
    "    [sparkML_lr_basic_1e6_results.training_time, h2o_lr_basic_1e6_results.training_time, sklearn_lr_basic_1e6_results.training_time],\n",
    "]\n",
    "\n",
    "lr_basic_models_training_times_df = pd.DataFrame(lr_basic_models_training_times_data, columns=['sparkML', 'h2o-sparkling-water', 'scikit-learn'], index=['1e4', '1e5', '1e6'])\n",
    "\n",
    "lr_basic_models_training_times_df.plot.bar()\n",
    "plt.title('Wyk.1. Czasy trenowania modeli (LR) z różnych bibliotek dla różnych zbiorów danych')\n",
    "plt.xlabel('Zbiór danych')\n",
    "plt.ylabel('Czas trenowania modelu [s]')\n",
    "plt.show()"
   ]
  },
  {
   "cell_type": "code",
   "execution_count": 26,
   "metadata": {},
   "outputs": [
    {
     "data": {
      "image/png": "[encoded data removed]",
      "text/plain": [
       "<Figure size 432x288 with 1 Axes>"
      ]
     },
     "metadata": {
      "needs_background": "light"
     },
     "output_type": "display_data"
    }
   ],
   "source": [
    "lr_basic_models_auc_data = [\n",
    "    [sparkML_lr_basic_1e4_results.auc, h2o_lr_basic_1e4_results.auc, sklearn_lr_basic_1e4_results.auc],\n",
    "    [sparkML_lr_basic_1e5_results.auc, h2o_lr_basic_1e5_results.auc, sklearn_lr_basic_1e5_results.auc],\n",
    "    [sparkML_lr_basic_1e6_results.auc, h2o_lr_basic_1e6_results.auc, sklearn_lr_basic_1e6_results.auc],\n",
    "]\n",
    "\n",
    "lr_basic_models_auc_df = pd.DataFrame(lr_basic_models_auc_data, columns=['sparkML', 'h2o-sparkling-water', 'scikit-learn'], index=['1e4', '1e5', '1e6'])\n",
    "\n",
    "lr_basic_models_auc_df.plot.bar()\n",
    "plt.title('Wyk.2. Wartość miary AUC dla modeli (LR) z różnych bibliotek dla różnych zbiorów danych')\n",
    "plt.xlabel('Zbiór danych')\n",
    "plt.ylabel('AUC')\n",
    "plt.show()"
   ]
  },
  {
   "cell_type": "code",
   "execution_count": 27,
   "metadata": {},
   "outputs": [
    {
     "data": {
      "image/png": "[encoded data removed]",
      "text/plain": [
       "<Figure size 432x288 with 1 Axes>"
      ]
     },
     "metadata": {
      "needs_background": "light"
     },
     "output_type": "display_data"
    }
   ],
   "source": [
    "lr_basic_models_accuracy_data = [\n",
    "    [sparkML_lr_basic_1e4_results.accuracy, h2o_lr_basic_1e4_results.accuracy, sklearn_lr_basic_1e4_results.accuracy],\n",
    "    [sparkML_lr_basic_1e5_results.accuracy, h2o_lr_basic_1e5_results.accuracy, sklearn_lr_basic_1e5_results.accuracy],\n",
    "    [sparkML_lr_basic_1e6_results.accuracy, h2o_lr_basic_1e6_results.accuracy, sklearn_lr_basic_1e6_results.accuracy],\n",
    "]\n",
    "\n",
    "lr_basic_models_accuracy_df = pd.DataFrame(lr_basic_models_accuracy_data, columns=['sparkML', 'h2o-sparkling-water', 'scikit-learn'], index=['1e4', '1e5', '1e6'])\n",
    "\n",
    "lr_basic_models_accuracy_df.plot.bar()\n",
    "plt.title('Wyk.3. Wartość miary Accuracy dla modeli (LR) z różnych bibliotek dla różnych zbiorów danych')\n",
    "plt.xlabel('Zbiór danych')\n",
    "plt.ylabel('Accuracy')\n",
    "plt.show()"
   ]
  },
  {
   "cell_type": "markdown",
   "metadata": {},
   "source": [
    "Analizując zgromadzone wyniki możemy zauważyć, że w kwestii jakości predykcji wszystkie badane implementacje są niemal identyczne. Dla poszczególnych rozmiarów zbiorów danych, miary AUC i Accuracy dla bibliotek sparkML oraz h2o-sparkling-water są prawie takie same, jedynie scikit-learn zdaje się oferować minimalne mniejsze wartości miar dla większych zbiorów danych. Dla wszystkich modeli widzimy drobny wzrost wartości AUC i Accuracy wraz ze wzrostem rozmiarów zbiorów danych.\n",
    "\n",
    "W kwestii czasu trenowania modeli, widzimy że dla najmniejszego zbioru danych 1e4, czas trenowania jest najmniejszy dla nierozproszonej implementacji regresji logistycznej, a najdłuższy dla implementacji z biblioteki sparkML. Jednak dla większych zbiorów danych, implementacja ze scikit-learn radzi sobie coraz gorzej, co najbardziej widać dla zbioru danych 1e6. Może to wynikać m.in. ze sposobu przygotowania danych dla tego modelu - data frame'y dla implementacji rozproszonych są mapowane na odpowiednie data frame'y dla biblioteki scikit-learn. Dla zbioru danych 1e6 możemy też zauważyć, że czas trenowania modelu z implementacji sparkowej prześciga o kilka sekund implementację z h2o-sparkling-water. Biorąc pod uwagę specyfikę środowiska testowego (wirtualna maszyna) można by uznać, że obie implementacje rozproszone mają zbliżony czas trenowania modeli regresji logistycznej."
   ]
  },
  {
   "cell_type": "markdown",
   "metadata": {
    "tags": []
   },
   "source": [
    "# **Regresja logistyczna - optymalizacja hiperparametrów modeli na zbiorze danych 1e6**\n",
    "\n",
    "Dla każdej badanej implementacji modelu typu regresja logistyczna, spróbowaliśmy dokonać optymalizacji ich parametrów. Wyniki dla nowo otrzymanych modeli porównaliśmy z ich wersjami bazowymi. Optymalizację, trenowanie i testowanie modeli przeprowadziliśmy na zbiorze danych 1e6.\n",
    "\n",
    "Dla każdej biblioteki dokonaliśmy optymalizacji dla różnych parametrów, z wykorzystaniem metod detykowanych dla tych bibliotek. Szczegóły w implementacjach kolejnych wywoływanych funkcji."
   ]
  },
  {
   "cell_type": "markdown",
   "metadata": {},
   "source": [
    "## sparkML"
   ]
  },
  {
   "cell_type": "code",
   "execution_count": 28,
   "metadata": {},
   "outputs": [
    {
     "name": "stdout",
     "output_type": "stream",
     "text": [
      "----- Regresja logistyczna, sparkML, zbiór 1e6, optymalizowane hiperparametry -----\n",
      "Zoptymalizowane parametry:\n",
      "    regParam: 0.0\n",
      "    elasticNetParam: 0.0\n",
      "AUC: 0.665\n",
      "Accuracy: 0.852\n",
      "Macierz pomyłek:\n",
      "   label  prediction   count\n",
      "0      0         0.0     130\n",
      "1      0         1.0   29553\n",
      "2      1         0.0      90\n",
      "3      1         1.0  170283\n"
     ]
    }
   ],
   "source": [
    "sparkML_lr_tuning_1e6_results = tune_and_test_sparkML_lr(training_df_1e6, testing_df_1e6)\n",
    "\n",
    "\n",
    "label_sparkML_lr_tuning_1e6_results = 'Regresja logistyczna, sparkML, zbiór 1e6, optymalizowane hiperparametry'\n",
    "print_model_tuning_results(sparkML_lr_tuning_1e6_results, label_sparkML_lr_tuning_1e6_results)"
   ]
  },
  {
   "cell_type": "markdown",
   "metadata": {},
   "source": [
    "## H2O-sparklinkg-water"
   ]
  },
  {
   "cell_type": "code",
   "execution_count": 29,
   "metadata": {},
   "outputs": [
    {
     "name": "stdout",
     "output_type": "stream",
     "text": [
      "----- Regresja logistyczna, H2O-sparkling-water, zbiór 1e6, optymalizowane hiperparametry -----\n",
      "Zoptymalizowane parametry:\n",
      "    alphaValue: 0.0\n",
      "    lambdaValue: 0.0\n",
      "AUC: 0.665\n",
      "Accuracy: 0.852\n",
      "Macierz pomyłek:\n",
      "   label prediction   count\n",
      "0      0          0      33\n",
      "1      0          1   29650\n",
      "2      1          0      21\n",
      "3      1          1  170352\n"
     ]
    }
   ],
   "source": [
    "h2o_lr_tuning_1e6_results = tune_and_test_h2o_lr(training_df_1e6, testing_df_1e6)\n",
    "\n",
    "\n",
    "label_h2o_lr_tuning_1e6_results = 'Regresja logistyczna, H2O-sparkling-water, zbiór 1e6, optymalizowane hiperparametry'\n",
    "print_model_tuning_results(h2o_lr_tuning_1e6_results, label_h2o_lr_tuning_1e6_results)"
   ]
  },
  {
   "cell_type": "markdown",
   "metadata": {},
   "source": [
    "## scikit-learn"
   ]
  },
  {
   "cell_type": "code",
   "execution_count": 30,
   "metadata": {},
   "outputs": [
    {
     "name": "stderr",
     "output_type": "stream",
     "text": [
      "'n_jobs' > 1 does not have any effect when 'solver' is set to 'liblinear'. Got 'n_jobs' = 4.\n",
      "'n_jobs' > 1 does not have any effect when 'solver' is set to 'liblinear'. Got 'n_jobs' = 4.\n",
      "'n_jobs' > 1 does not have any effect when 'solver' is set to 'liblinear'. Got 'n_jobs' = 4.\n",
      "'n_jobs' > 1 does not have any effect when 'solver' is set to 'liblinear'. Got 'n_jobs' = 4.\n",
      "'n_jobs' > 1 does not have any effect when 'solver' is set to 'liblinear'. Got 'n_jobs' = 4.\n",
      "'n_jobs' > 1 does not have any effect when 'solver' is set to 'liblinear'. Got 'n_jobs' = 4.\n",
      "'n_jobs' > 1 does not have any effect when 'solver' is set to 'liblinear'. Got 'n_jobs' = 4.\n",
      "'n_jobs' > 1 does not have any effect when 'solver' is set to 'liblinear'. Got 'n_jobs' = 4.\n",
      "'n_jobs' > 1 does not have any effect when 'solver' is set to 'liblinear'. Got 'n_jobs' = 4.\n",
      "'n_jobs' > 1 does not have any effect when 'solver' is set to 'liblinear'. Got 'n_jobs' = 4.\n",
      "'n_jobs' > 1 does not have any effect when 'solver' is set to 'liblinear'. Got 'n_jobs' = 4.\n",
      "'n_jobs' > 1 does not have any effect when 'solver' is set to 'liblinear'. Got 'n_jobs' = 4.\n",
      "'n_jobs' > 1 does not have any effect when 'solver' is set to 'liblinear'. Got 'n_jobs' = 4.\n"
     ]
    },
    {
     "name": "stdout",
     "output_type": "stream",
     "text": [
      "----- Regresja logistyczna, scikit-learn, zbiór 1e6, optymalizowane hiperparametry -----\n",
      "Zoptymalizowane parametry:\n",
      "    C: 1.0\n",
      "    penalty: l2\n",
      "    solver: liblinear\n",
      "AUC: 0.665\n",
      "Accuracy: 0.852\n",
      "Macierz pomyłek:\n",
      "   label  prediction   count\n",
      "0      0           0     130\n",
      "1      0           1   29553\n",
      "2      1           0      91\n",
      "3      1           1  170282\n"
     ]
    }
   ],
   "source": [
    "sklearn_lr_tuning_1e6_results = tune_and_test_sklearn_lr(training_df_1e6, testing_df_1e6)\n",
    "# sklearn_lr_tuning_1e6_results = ModelTuningResults()\n",
    "\n",
    "label_sklearn_lr_tuning_1e6_results = 'Regresja logistyczna, scikit-learn, zbiór 1e6, optymalizowane hiperparametry'\n",
    "print_model_tuning_results(sklearn_lr_tuning_1e6_results, label_sklearn_lr_tuning_1e6_results)"
   ]
  },
  {
   "cell_type": "markdown",
   "metadata": {},
   "source": [
    "## Analiza wyników"
   ]
  },
  {
   "cell_type": "code",
   "execution_count": 31,
   "metadata": {},
   "outputs": [
    {
     "data": {
      "image/png": "[encoded data removed]",
      "text/plain": [
       "<Figure size 432x288 with 1 Axes>"
      ]
     },
     "metadata": {
      "needs_background": "light"
     },
     "output_type": "display_data"
    }
   ],
   "source": [
    "lr_tuned_models_auc_data = [\n",
    "    [sparkML_lr_basic_1e6_results.auc, sparkML_lr_tuning_1e6_results.auc],\n",
    "    [h2o_lr_basic_1e6_results.auc, h2o_lr_tuning_1e6_results.auc],\n",
    "    [sklearn_lr_basic_1e6_results.auc, sklearn_lr_tuning_1e6_results.auc]\n",
    "]\n",
    "\n",
    "lr_tuned_models_auc_df = pd.DataFrame(lr_tuned_models_auc_data, columns=['AUC przed optymalizacją', 'AUC po optymalizacji'], index=['sparkML', 'h2o-sparkling-water', 'scikit-learn'])\n",
    "\n",
    "lr_tuned_models_auc_df.plot.bar()\n",
    "plt.title('Wyk.4. Wartość miary AUC dla dostrajanych modeli (LR) z różnych bibliotek dla zbioru danych 1e6')\n",
    "plt.xlabel('Biblioteka')\n",
    "plt.ylabel('AUC')\n",
    "plt.show()"
   ]
  },
  {
   "cell_type": "code",
   "execution_count": 32,
   "metadata": {},
   "outputs": [
    {
     "data": {
      "text/html": [
       "<div>\n",
       "<style scoped>\n",
       "    .dataframe tbody tr th:only-of-type {\n",
       "        vertical-align: middle;\n",
       "    }\n",
       "\n",
       "    .dataframe tbody tr th {\n",
       "        vertical-align: top;\n",
       "    }\n",
       "\n",
       "    .dataframe thead th {\n",
       "        text-align: right;\n",
       "    }\n",
       "</style>\n",
       "<table border=\"1\" class=\"dataframe\">\n",
       "  <thead>\n",
       "    <tr style=\"text-align: right;\">\n",
       "      <th></th>\n",
       "      <th>AUC przed optymalizacją</th>\n",
       "      <th>AUC po optymalizacji</th>\n",
       "    </tr>\n",
       "  </thead>\n",
       "  <tbody>\n",
       "    <tr>\n",
       "      <th>sparkML</th>\n",
       "      <td>0.664876</td>\n",
       "      <td>0.664874</td>\n",
       "    </tr>\n",
       "    <tr>\n",
       "      <th>h2o-sparkling-water</th>\n",
       "      <td>0.664882</td>\n",
       "      <td>0.664872</td>\n",
       "    </tr>\n",
       "    <tr>\n",
       "      <th>scikit-learn</th>\n",
       "      <td>0.660399</td>\n",
       "      <td>0.664850</td>\n",
       "    </tr>\n",
       "  </tbody>\n",
       "</table>\n",
       "</div>"
      ],
      "text/plain": [
       "                     AUC przed optymalizacją  AUC po optymalizacji\n",
       "sparkML                             0.664876              0.664874\n",
       "h2o-sparkling-water                 0.664882              0.664872\n",
       "scikit-learn                        0.660399              0.664850"
      ]
     },
     "execution_count": 32,
     "metadata": {},
     "output_type": "execute_result"
    }
   ],
   "source": [
    "lr_tuned_models_auc_df"
   ]
  },
  {
   "cell_type": "code",
   "execution_count": 33,
   "metadata": {},
   "outputs": [
    {
     "data": {
      "image/png": "[encoded data removed]",
      "text/plain": [
       "<Figure size 432x288 with 1 Axes>"
      ]
     },
     "metadata": {
      "needs_background": "light"
     },
     "output_type": "display_data"
    }
   ],
   "source": [
    "lr_tuned_models_accuracy_data = [\n",
    "    [sparkML_lr_basic_1e6_results.accuracy, sparkML_lr_tuning_1e6_results.accuracy],\n",
    "    [h2o_lr_basic_1e6_results.accuracy, h2o_lr_tuning_1e6_results.accuracy],\n",
    "    [sklearn_lr_basic_1e6_results.accuracy, sklearn_lr_tuning_1e6_results.accuracy]\n",
    "]\n",
    "\n",
    "lr_tuned_models_accuracy_df = pd.DataFrame(lr_tuned_models_accuracy_data, columns=['Accuracy przed optymalizacją', 'Accuracy po optymalizacji'], index=['sparkML', 'h2o-sparkling-water', 'scikit-learn'])\n",
    "\n",
    "lr_tuned_models_accuracy_df.plot.bar()\n",
    "plt.title('Wyk. 5. Wartość miary Accuracy dla dostrajanych modeli (LR) z różnych bibliotek dla zbioru danych 1e6')\n",
    "plt.xlabel('Biblioteka')\n",
    "plt.ylabel('Accuracy')\n",
    "plt.show()"
   ]
  },
  {
   "cell_type": "code",
   "execution_count": 34,
   "metadata": {},
   "outputs": [
    {
     "data": {
      "text/html": [
       "<div>\n",
       "<style scoped>\n",
       "    .dataframe tbody tr th:only-of-type {\n",
       "        vertical-align: middle;\n",
       "    }\n",
       "\n",
       "    .dataframe tbody tr th {\n",
       "        vertical-align: top;\n",
       "    }\n",
       "\n",
       "    .dataframe thead th {\n",
       "        text-align: right;\n",
       "    }\n",
       "</style>\n",
       "<table border=\"1\" class=\"dataframe\">\n",
       "  <thead>\n",
       "    <tr style=\"text-align: right;\">\n",
       "      <th></th>\n",
       "      <th>Accuracy przed optymalizacją</th>\n",
       "      <th>Accuracy po optymalizacji</th>\n",
       "    </tr>\n",
       "  </thead>\n",
       "  <tbody>\n",
       "    <tr>\n",
       "      <th>sparkML</th>\n",
       "      <td>0.851826</td>\n",
       "      <td>0.851826</td>\n",
       "    </tr>\n",
       "    <tr>\n",
       "      <th>h2o-sparkling-water</th>\n",
       "      <td>0.851642</td>\n",
       "      <td>0.851687</td>\n",
       "    </tr>\n",
       "    <tr>\n",
       "      <th>scikit-learn</th>\n",
       "      <td>0.851722</td>\n",
       "      <td>0.851821</td>\n",
       "    </tr>\n",
       "  </tbody>\n",
       "</table>\n",
       "</div>"
      ],
      "text/plain": [
       "                     Accuracy przed optymalizacją  Accuracy po optymalizacji\n",
       "sparkML                                  0.851826                   0.851826\n",
       "h2o-sparkling-water                      0.851642                   0.851687\n",
       "scikit-learn                             0.851722                   0.851821"
      ]
     },
     "execution_count": 34,
     "metadata": {},
     "output_type": "execute_result"
    }
   ],
   "source": [
    "lr_tuned_models_accuracy_df"
   ]
  },
  {
   "cell_type": "markdown",
   "metadata": {},
   "source": [
    "Dokonane przez nas próby optymalizacji modelów nie przyniosły znaczącej poprawy w jakości predykcji modeli. Jedynie dla implementacji z bibliotek scikit-learn można zauważyć minimalną poprawę wartości AUC i Accuracy."
   ]
  },
  {
   "cell_type": "markdown",
   "metadata": {
    "tags": []
   },
   "source": [
    "# **Regresja logistyczna - porównanie czasu trenowania modeli dla zbioru danych 1e6 w zależności od liczby dostępnych wątków**\n",
    "\n",
    "Dla różnej liczby dostępnych wątków w środowisku testowym (1, 2 i 3), sprawdziliśmy czasy trenowania bazowych wersji modeli typu regresja logistyczna z bibliotek Spark, h2o-sparkling-water oraz scikit-learn. W niniejszym sprawozdaniu przedstawiliśmy wyniki dla zbioru danych 1e6\n",
    "\n",
    "**Ze względu na problemy z resetowaniem kontekstu h2o w ramach jednego notatnika (co było konieczne do zmiany liczby dostępnych wątków), eksperymenty dla tego zadania przeprowadziliśmy w oddzielnych notatnikach, a ich wyniki przepisaliśmy do niniejszego sprawozdania. Notatniki można znaleźć w folderze tbd-notebooks/cores_testing.**"
   ]
  },
  {
   "cell_type": "code",
   "execution_count": 35,
   "metadata": {},
   "outputs": [],
   "source": [
    "lr_basic_models_training_times_for_cores_data = [\n",
    "    [57.245, 34.946, 25.672],\n",
    "    [58.314, 38.361, 27.613],\n",
    "    [119.977, 306.877, 304.123]\n",
    "]"
   ]
  },
  {
   "cell_type": "markdown",
   "metadata": {},
   "source": [
    "## Analiza wyników"
   ]
  },
  {
   "cell_type": "code",
   "execution_count": 36,
   "metadata": {},
   "outputs": [
    {
     "data": {
      "image/png": "[encoded data removed]",
      "text/plain": [
       "<Figure size 432x288 with 1 Axes>"
      ]
     },
     "metadata": {
      "needs_background": "light"
     },
     "output_type": "display_data"
    }
   ],
   "source": [
    "lr_basic_models_training_times_for_cores_df = pd.DataFrame(lr_basic_models_training_times_for_cores_data, columns=['1 wątek', '2 wątki', '3 wątki'], index=['sparkML', 'h2o-sparkling-water', 'scikit-learn'])\n",
    "\n",
    "lr_basic_models_training_times_for_cores_df.plot.bar()\n",
    "plt.title('Wyk. 6. Czasy trenowania modeli (LR) z różnych bibliotek dla zbioru danych 1e6 z uwzględnieniem liczby dostępnych wątków')\n",
    "plt.xlabel('Biblioteka')\n",
    "plt.ylabel('Czas trenowania modelu [s]')\n",
    "plt.show()"
   ]
  },
  {
   "cell_type": "code",
   "execution_count": 37,
   "metadata": {},
   "outputs": [
    {
     "data": {
      "text/html": [
       "<div>\n",
       "<style scoped>\n",
       "    .dataframe tbody tr th:only-of-type {\n",
       "        vertical-align: middle;\n",
       "    }\n",
       "\n",
       "    .dataframe tbody tr th {\n",
       "        vertical-align: top;\n",
       "    }\n",
       "\n",
       "    .dataframe thead th {\n",
       "        text-align: right;\n",
       "    }\n",
       "</style>\n",
       "<table border=\"1\" class=\"dataframe\">\n",
       "  <thead>\n",
       "    <tr style=\"text-align: right;\">\n",
       "      <th></th>\n",
       "      <th>1 wątek</th>\n",
       "      <th>2 wątki</th>\n",
       "      <th>3 wątki</th>\n",
       "    </tr>\n",
       "  </thead>\n",
       "  <tbody>\n",
       "    <tr>\n",
       "      <th>sparkML</th>\n",
       "      <td>57.245</td>\n",
       "      <td>34.946</td>\n",
       "      <td>25.672</td>\n",
       "    </tr>\n",
       "    <tr>\n",
       "      <th>h2o-sparkling-water</th>\n",
       "      <td>58.314</td>\n",
       "      <td>38.361</td>\n",
       "      <td>27.613</td>\n",
       "    </tr>\n",
       "    <tr>\n",
       "      <th>scikit-learn</th>\n",
       "      <td>119.977</td>\n",
       "      <td>306.877</td>\n",
       "      <td>304.123</td>\n",
       "    </tr>\n",
       "  </tbody>\n",
       "</table>\n",
       "</div>"
      ],
      "text/plain": [
       "                     1 wątek  2 wątki  3 wątki\n",
       "sparkML               57.245   34.946   25.672\n",
       "h2o-sparkling-water   58.314   38.361   27.613\n",
       "scikit-learn         119.977  306.877  304.123"
      ]
     },
     "execution_count": 37,
     "metadata": {},
     "output_type": "execute_result"
    }
   ],
   "source": [
    "lr_basic_models_training_times_for_cores_df"
   ]
  },
  {
   "cell_type": "markdown",
   "metadata": {},
   "source": [
    "Zarówno dla implementacji regresji logistycznej ze sparkML jak i h2o-sparkling-water, możemy obserwować podobne spadki w czasie trenowania modeli wraz ze wzrostem liczby dostępnych wątków. Ponownie obserwujemy, że czasy trenowania modeli dla tych bibliotek są w gruncie rzeczy zbliżone. Jedynie dla implementacji nierozproszonej (scikit-learn) obserwujemy dziwne zachowanie dla liczby wątków większej niż 1. Ustawienie parametru n_jobs na wartość większą od 1 spowodowało znaczny wzrost czasu trenowania modelu dla biblioteki scikit-learn, przy czym dla 2 i 3 wątków czasy są podobne."
   ]
  },
  {
   "cell_type": "markdown",
   "metadata": {
    "tags": []
   },
   "source": [
    "# **Gradient Boosted Trees - porównanie wyników klasyfikacji oraz czasu trenowania podstawowych wersji modeli dla różnych wielkości zbiorów danych**\n",
    "\n",
    "Dla każdego otrzymanego zbioru danych, przeprowadziliśmy trenowanie podstawowych wersji (z domyślnymi parametrami) modeli typu Gradient Boosted Trees. Ich implementacje zaczerpnęliśmy z trzech bibliotek: Spark, h2o-sparkling-water oraz SynapseML. Podczas trenowania mierzyliśmy jego czas, a następnie dla otrzymanych modeli sprawdziliśmy na zbiorze testowym wartości AUC, Accuracy oraz macierz pomyłek."
   ]
  },
  {
   "cell_type": "markdown",
   "metadata": {},
   "source": [
    "## Zbiór danych 1e4"
   ]
  },
  {
   "cell_type": "code",
   "execution_count": 38,
   "metadata": {},
   "outputs": [
    {
     "name": "stdout",
     "output_type": "stream",
     "text": [
      "----- Gradient Boosted Trees, sparkML, zbiór 1e4, podstawowe hiperparametry, domyślna liczba wątków -----\n",
      "Czas trenowania: 9.976s\n",
      "AUC: 0.675\n",
      "Accuracy: 0.837\n",
      "Macierz pomyłek:\n",
      "   label  prediction  count\n",
      "0      0         0.0      3\n",
      "1      0         1.0    325\n",
      "2      1         0.0      7\n",
      "3      1         1.0   1698\n"
     ]
    }
   ],
   "source": [
    "sparkML_gbt_basic_1e4_results = test_sparkML_gbt_basic_version(training_df_1e4, testing_df_1e4)\n",
    "\n",
    "label_sparkML_gbt_basic_1e4_results = 'Gradient Boosted Trees, sparkML, zbiór 1e4, podstawowe hiperparametry, domyślna liczba wątków'\n",
    "print_model_testing_results(sparkML_gbt_basic_1e4_results, label_sparkML_gbt_basic_1e4_results)"
   ]
  },
  {
   "cell_type": "code",
   "execution_count": 39,
   "metadata": {},
   "outputs": [
    {
     "name": "stdout",
     "output_type": "stream",
     "text": [
      "----- Gradient Boosted Trees, H2O-sparkling-water, zbiór 1e4, podstawowe hiperparametry, domyślna liczba wątków -----\n",
      "Czas trenowania: 4.985s\n",
      "AUC: 0.655\n",
      "Accuracy: 0.815\n",
      "Macierz pomyłek:\n",
      "   label prediction  count\n",
      "0      0          0     56\n",
      "1      0          1    272\n",
      "2      1          0    104\n",
      "3      1          1   1601\n"
     ]
    }
   ],
   "source": [
    "h2o_gbt_basic_1e4_results = test_h2o_gbt_basic_version(training_df_1e4, testing_df_1e4)\n",
    "\n",
    "label_h2o_gbt_basic_1e4_results = 'Gradient Boosted Trees, H2O-sparkling-water, zbiór 1e4, podstawowe hiperparametry, domyślna liczba wątków'\n",
    "print_model_testing_results(h2o_gbt_basic_1e4_results, label_h2o_gbt_basic_1e4_results)"
   ]
  },
  {
   "cell_type": "code",
   "execution_count": 40,
   "metadata": {},
   "outputs": [
    {
     "name": "stdout",
     "output_type": "stream",
     "text": [
      "----- Gradient Boosted Trees, SynapseML, zbiór 1e4, podstawowe hiperparametry, domyślna liczba wątków -----\n",
      "Czas trenowania: 2.068s\n",
      "AUC: 0.676\n",
      "Accuracy: 0.838\n",
      "Macierz pomyłek:\n",
      "   label  prediction  count\n",
      "0      0         0.0      9\n",
      "1      0         1.0    319\n",
      "2      1         0.0     10\n",
      "3      1         1.0   1695\n"
     ]
    }
   ],
   "source": [
    "synapseML_gbt_basic_1e4_results = test_synapseML_gbt_basic_version(training_df_1e4, testing_df_1e4)\n",
    "\n",
    "label_synapseML_gbt_basic_1e4_results = 'Gradient Boosted Trees, SynapseML, zbiór 1e4, podstawowe hiperparametry, domyślna liczba wątków'\n",
    "print_model_testing_results(synapseML_gbt_basic_1e4_results, label_synapseML_gbt_basic_1e4_results)"
   ]
  },
  {
   "cell_type": "markdown",
   "metadata": {},
   "source": [
    "## Zbiór danych 1e5"
   ]
  },
  {
   "cell_type": "code",
   "execution_count": 41,
   "metadata": {},
   "outputs": [
    {
     "name": "stdout",
     "output_type": "stream",
     "text": [
      "----- Gradient Boosted Trees, sparkML, zbiór 1e5, podstawowe hiperparametry, domyślna liczba wątków -----\n",
      "Czas trenowania: 18.125s\n",
      "AUC: 0.677\n",
      "Accuracy: 0.848\n",
      "Macierz pomyłek:\n",
      "   label  prediction  count\n",
      "0      0         0.0      9\n",
      "1      0         1.0   3000\n",
      "2      1         0.0     14\n",
      "3      1         1.0  16869\n"
     ]
    }
   ],
   "source": [
    "sparkML_gbt_basic_1e5_results = test_sparkML_gbt_basic_version(training_df_1e5, testing_df_1e5)\n",
    "\n",
    "label_sparkML_gbt_basic_1e5_results = 'Gradient Boosted Trees, sparkML, zbiór 1e5, podstawowe hiperparametry, domyślna liczba wątków'\n",
    "print_model_testing_results(sparkML_gbt_basic_1e5_results, label_sparkML_gbt_basic_1e5_results)"
   ]
  },
  {
   "cell_type": "code",
   "execution_count": 42,
   "metadata": {},
   "outputs": [
    {
     "name": "stdout",
     "output_type": "stream",
     "text": [
      "----- Gradient Boosted Trees, H2O-sparkling-water, zbiór 1e5, podstawowe hiperparametry, domyślna liczba wątków -----\n",
      "Czas trenowania: 9.47s\n",
      "AUC: 0.682\n",
      "Accuracy: 0.847\n",
      "Macierz pomyłek:\n",
      "   label prediction  count\n",
      "0      0          0    127\n",
      "1      0          1   2882\n",
      "2      1          0    164\n",
      "3      1          1  16719\n"
     ]
    }
   ],
   "source": [
    "h2o_gbt_basic_1e5_results = test_h2o_gbt_basic_version(training_df_1e5, testing_df_1e5)\n",
    "\n",
    "label_h2o_gbt_basic_1e5_results = 'Gradient Boosted Trees, H2O-sparkling-water, zbiór 1e5, podstawowe hiperparametry, domyślna liczba wątków'\n",
    "print_model_testing_results(h2o_gbt_basic_1e5_results, label_h2o_gbt_basic_1e5_results)"
   ]
  },
  {
   "cell_type": "code",
   "execution_count": 43,
   "metadata": {},
   "outputs": [
    {
     "name": "stdout",
     "output_type": "stream",
     "text": [
      "----- Gradient Boosted Trees, SynapseML, zbiór 1e5, podstawowe hiperparametry, domyślna liczba wątków -----\n",
      "Czas trenowania: 6.104s\n",
      "AUC: 0.685\n",
      "Accuracy: 0.849\n",
      "Macierz pomyłek:\n",
      "   label  prediction  count\n",
      "0      0         0.0     31\n",
      "1      0         1.0   2978\n",
      "2      1         0.0     23\n",
      "3      1         1.0  16860\n"
     ]
    }
   ],
   "source": [
    "synapseML_gbt_basic_1e5_results = test_synapseML_gbt_basic_version(training_df_1e5, testing_df_1e5)\n",
    "\n",
    "label_synapseML_gbt_basic_1e5_results = 'Gradient Boosted Trees, SynapseML, zbiór 1e5, podstawowe hiperparametry, domyślna liczba wątków'\n",
    "print_model_testing_results(synapseML_gbt_basic_1e5_results, label_synapseML_gbt_basic_1e5_results)"
   ]
  },
  {
   "cell_type": "markdown",
   "metadata": {},
   "source": [
    "## Zbiór danych 1e6"
   ]
  },
  {
   "cell_type": "code",
   "execution_count": 44,
   "metadata": {},
   "outputs": [
    {
     "name": "stdout",
     "output_type": "stream",
     "text": [
      "----- Gradient Boosted Trees, sparkML, zbiór 1e6, podstawowe hiperparametry, domyślna liczba wątków -----\n",
      "Czas trenowania: 169.134s\n",
      "AUC: 0.679\n",
      "Accuracy: 0.852\n",
      "Macierz pomyłek:\n",
      "   label  prediction   count\n",
      "0      0         0.0     120\n",
      "1      0         1.0   29563\n",
      "2      1         0.0      77\n",
      "3      1         1.0  170296\n"
     ]
    }
   ],
   "source": [
    "sparkML_gbt_basic_1e6_results = test_sparkML_gbt_basic_version(training_df_1e6, testing_df_1e6)\n",
    "\n",
    "label_sparkML_gbt_basic_1e6_results = 'Gradient Boosted Trees, sparkML, zbiór 1e6, podstawowe hiperparametry, domyślna liczba wątków'\n",
    "print_model_testing_results(sparkML_gbt_basic_1e6_results, label_sparkML_gbt_basic_1e6_results)"
   ]
  },
  {
   "cell_type": "code",
   "execution_count": 45,
   "metadata": {},
   "outputs": [
    {
     "name": "stdout",
     "output_type": "stream",
     "text": [
      "----- Gradient Boosted Trees, H2O-sparkling-water, zbiór 1e6, podstawowe hiperparametry, domyślna liczba wątków -----\n",
      "Czas trenowania: 57.398s\n",
      "AUC: 0.694\n",
      "Accuracy: 0.852\n",
      "Macierz pomyłek:\n",
      "   label prediction   count\n",
      "0      0          0     479\n",
      "1      0          1   29204\n",
      "2      1          0     335\n",
      "3      1          1  170038\n"
     ]
    }
   ],
   "source": [
    "h2o_gbt_basic_1e6_results = test_h2o_gbt_basic_version(training_df_1e6, testing_df_1e6)\n",
    "\n",
    "label_h2o_gbt_basic_1e6_results = 'Gradient Boosted Trees, H2O-sparkling-water, zbiór 1e6, podstawowe hiperparametry, domyślna liczba wątków'\n",
    "print_model_testing_results(h2o_gbt_basic_1e6_results, label_h2o_gbt_basic_1e6_results)"
   ]
  },
  {
   "cell_type": "code",
   "execution_count": 46,
   "metadata": {},
   "outputs": [
    {
     "name": "stdout",
     "output_type": "stream",
     "text": [
      "----- Gradient Boosted Trees, SynapseML, zbiór 1e6, podstawowe hiperparametry, domyślna liczba wątków -----\n",
      "Czas trenowania: 30.953s\n",
      "AUC: 0.694\n",
      "Accuracy: 0.852\n",
      "Macierz pomyłek:\n",
      "   label  prediction   count\n",
      "0      0         0.0     397\n",
      "1      0         1.0   29286\n",
      "2      1         0.0     276\n",
      "3      1         1.0  170097\n"
     ]
    }
   ],
   "source": [
    "synapseML_gbt_basic_1e6_results = test_synapseML_gbt_basic_version(training_df_1e6, testing_df_1e6)\n",
    "\n",
    "label_synapseML_gbt_basic_1e6_results = 'Gradient Boosted Trees, SynapseML, zbiór 1e6, podstawowe hiperparametry, domyślna liczba wątków'\n",
    "print_model_testing_results(synapseML_gbt_basic_1e6_results, label_synapseML_gbt_basic_1e6_results)"
   ]
  },
  {
   "cell_type": "markdown",
   "metadata": {},
   "source": [
    "## Analiza wyników"
   ]
  },
  {
   "cell_type": "code",
   "execution_count": 47,
   "metadata": {},
   "outputs": [
    {
     "data": {
      "text/html": [
       "<div>\n",
       "<style scoped>\n",
       "    .dataframe tbody tr th:only-of-type {\n",
       "        vertical-align: middle;\n",
       "    }\n",
       "\n",
       "    .dataframe tbody tr th {\n",
       "        vertical-align: top;\n",
       "    }\n",
       "\n",
       "    .dataframe thead th {\n",
       "        text-align: right;\n",
       "    }\n",
       "</style>\n",
       "<table border=\"1\" class=\"dataframe\">\n",
       "  <thead>\n",
       "    <tr style=\"text-align: right;\">\n",
       "      <th></th>\n",
       "      <th>Zbiór danych</th>\n",
       "      <th>Biblioteka</th>\n",
       "      <th>Czas trenowania (s)</th>\n",
       "      <th>AUC</th>\n",
       "      <th>Accuracy</th>\n",
       "    </tr>\n",
       "  </thead>\n",
       "  <tbody>\n",
       "    <tr>\n",
       "      <th>0</th>\n",
       "      <td>1e4</td>\n",
       "      <td>sparkML</td>\n",
       "      <td>9.976248</td>\n",
       "      <td>0.674647</td>\n",
       "      <td>0.836695</td>\n",
       "    </tr>\n",
       "    <tr>\n",
       "      <th>1</th>\n",
       "      <td>1e4</td>\n",
       "      <td>h2o-sparkling-water</td>\n",
       "      <td>4.985150</td>\n",
       "      <td>0.654710</td>\n",
       "      <td>0.836695</td>\n",
       "    </tr>\n",
       "    <tr>\n",
       "      <th>2</th>\n",
       "      <td>1e4</td>\n",
       "      <td>synapseML</td>\n",
       "      <td>2.068002</td>\n",
       "      <td>0.675641</td>\n",
       "      <td>0.838170</td>\n",
       "    </tr>\n",
       "    <tr>\n",
       "      <th>3</th>\n",
       "      <td>1e5</td>\n",
       "      <td>sparkML</td>\n",
       "      <td>18.125042</td>\n",
       "      <td>0.677357</td>\n",
       "      <td>0.848482</td>\n",
       "    </tr>\n",
       "    <tr>\n",
       "      <th>4</th>\n",
       "      <td>1e5</td>\n",
       "      <td>h2o-sparkling-water</td>\n",
       "      <td>9.470126</td>\n",
       "      <td>0.682118</td>\n",
       "      <td>0.846873</td>\n",
       "    </tr>\n",
       "    <tr>\n",
       "      <th>5</th>\n",
       "      <td>1e5</td>\n",
       "      <td>ssynapseML</td>\n",
       "      <td>6.104023</td>\n",
       "      <td>0.684524</td>\n",
       "      <td>0.849135</td>\n",
       "    </tr>\n",
       "    <tr>\n",
       "      <th>6</th>\n",
       "      <td>1e6</td>\n",
       "      <td>sparkML</td>\n",
       "      <td>169.134417</td>\n",
       "      <td>0.678848</td>\n",
       "      <td>0.851841</td>\n",
       "    </tr>\n",
       "    <tr>\n",
       "      <th>7</th>\n",
       "      <td>1e6</td>\n",
       "      <td>h2o-sparkling-water</td>\n",
       "      <td>57.398005</td>\n",
       "      <td>0.693875</td>\n",
       "      <td>0.852346</td>\n",
       "    </tr>\n",
       "    <tr>\n",
       "      <th>8</th>\n",
       "      <td>1e6</td>\n",
       "      <td>synapseML</td>\n",
       "      <td>30.952891</td>\n",
       "      <td>0.694211</td>\n",
       "      <td>0.852231</td>\n",
       "    </tr>\n",
       "  </tbody>\n",
       "</table>\n",
       "</div>"
      ],
      "text/plain": [
       "  Zbiór danych           Biblioteka  Czas trenowania (s)       AUC  Accuracy\n",
       "0          1e4              sparkML             9.976248  0.674647  0.836695\n",
       "1          1e4  h2o-sparkling-water             4.985150  0.654710  0.836695\n",
       "2          1e4            synapseML             2.068002  0.675641  0.838170\n",
       "3          1e5              sparkML            18.125042  0.677357  0.848482\n",
       "4          1e5  h2o-sparkling-water             9.470126  0.682118  0.846873\n",
       "5          1e5           ssynapseML             6.104023  0.684524  0.849135\n",
       "6          1e6              sparkML           169.134417  0.678848  0.851841\n",
       "7          1e6  h2o-sparkling-water            57.398005  0.693875  0.852346\n",
       "8          1e6            synapseML            30.952891  0.694211  0.852231"
      ]
     },
     "execution_count": 47,
     "metadata": {},
     "output_type": "execute_result"
    }
   ],
   "source": [
    "models_gbt_basic_scores_data = [\n",
    "    ['1e4', 'sparkML', sparkML_gbt_basic_1e4_results.training_time, sparkML_gbt_basic_1e4_results.auc, sparkML_gbt_basic_1e4_results.accuracy],\n",
    "    ['1e4', 'h2o-sparkling-water', h2o_gbt_basic_1e4_results.training_time, h2o_gbt_basic_1e4_results.auc, h2o_lr_basic_1e4_results.accuracy],\n",
    "    ['1e4', 'synapseML', synapseML_gbt_basic_1e4_results.training_time, synapseML_gbt_basic_1e4_results.auc, synapseML_gbt_basic_1e4_results.accuracy],\n",
    "    ['1e5', 'sparkML', sparkML_gbt_basic_1e5_results.training_time, sparkML_gbt_basic_1e5_results.auc, sparkML_gbt_basic_1e5_results.accuracy],\n",
    "    ['1e5', 'h2o-sparkling-water', h2o_gbt_basic_1e5_results.training_time, h2o_gbt_basic_1e5_results.auc, h2o_gbt_basic_1e5_results.accuracy],\n",
    "    ['1e5', 'ssynapseML', synapseML_gbt_basic_1e5_results.training_time, synapseML_gbt_basic_1e5_results.auc, synapseML_gbt_basic_1e5_results.accuracy],\n",
    "    ['1e6', 'sparkML', sparkML_gbt_basic_1e6_results.training_time, sparkML_gbt_basic_1e6_results.auc, sparkML_gbt_basic_1e6_results.accuracy],\n",
    "    ['1e6', 'h2o-sparkling-water', h2o_gbt_basic_1e6_results.training_time, h2o_gbt_basic_1e6_results.auc, h2o_gbt_basic_1e6_results.accuracy],\n",
    "    ['1e6', 'synapseML', synapseML_gbt_basic_1e6_results.training_time, synapseML_gbt_basic_1e6_results.auc, synapseML_gbt_basic_1e6_results.accuracy],\n",
    "]\n",
    "\n",
    "models_gbt_basic_scores_df = pd.DataFrame(models_gbt_basic_scores_data, columns=['Zbiór danych', 'Biblioteka', 'Czas trenowania (s)', 'AUC', 'Accuracy'])\n",
    "models_gbt_basic_scores_df"
   ]
  },
  {
   "cell_type": "code",
   "execution_count": 48,
   "metadata": {},
   "outputs": [
    {
     "data": {
      "image/png": "[encoded data removed]",
      "text/plain": [
       "<Figure size 432x288 with 1 Axes>"
      ]
     },
     "metadata": {
      "needs_background": "light"
     },
     "output_type": "display_data"
    }
   ],
   "source": [
    "gbt_basic_models_training_times_data = [\n",
    "    [sparkML_gbt_basic_1e4_results.training_time, h2o_gbt_basic_1e4_results.training_time, synapseML_gbt_basic_1e4_results.training_time],\n",
    "    [sparkML_gbt_basic_1e5_results.training_time, h2o_gbt_basic_1e5_results.training_time, synapseML_gbt_basic_1e5_results.training_time],\n",
    "    [sparkML_gbt_basic_1e6_results.training_time, h2o_gbt_basic_1e6_results.training_time, synapseML_gbt_basic_1e6_results.training_time],\n",
    "]\n",
    "\n",
    "gbt_basic_models_training_times_df = pd.DataFrame(gbt_basic_models_training_times_data, columns=['sparkML', 'h2o-sparkling-water', 'SynapseML'], index=['1e4', '1e5', '1e6'])\n",
    "\n",
    "gbt_basic_models_training_times_df.plot.bar()\n",
    "plt.title('Wyk.7. Czasy trenowania modeli (GBT) z różnych bibliotek dla różnych zbiorów danych')\n",
    "plt.xlabel('Zbiór danych')\n",
    "plt.ylabel('Czas trenowania modelu [s]')\n",
    "plt.show()"
   ]
  },
  {
   "cell_type": "code",
   "execution_count": 49,
   "metadata": {},
   "outputs": [
    {
     "data": {
      "image/png": "[encoded data removed]",
      "text/plain": [
       "<Figure size 432x288 with 1 Axes>"
      ]
     },
     "metadata": {
      "needs_background": "light"
     },
     "output_type": "display_data"
    }
   ],
   "source": [
    "gbt_basic_models_auc_data = [\n",
    "    [sparkML_gbt_basic_1e4_results.auc, h2o_gbt_basic_1e4_results.auc, synapseML_gbt_basic_1e4_results.auc],\n",
    "    [sparkML_gbt_basic_1e5_results.auc, h2o_gbt_basic_1e5_results.auc, synapseML_gbt_basic_1e5_results.auc],\n",
    "    [sparkML_gbt_basic_1e6_results.auc, h2o_gbt_basic_1e6_results.auc, synapseML_gbt_basic_1e6_results.auc],\n",
    "]\n",
    "\n",
    "gbt_basic_models_auc_df = pd.DataFrame(gbt_basic_models_auc_data, columns=['sparkML', 'h2o-sparkling-water', 'SynapseML'], index=['1e4', '1e5', '1e6'])\n",
    "\n",
    "gbt_basic_models_auc_df.plot.bar()\n",
    "plt.title('Wyk.8. Wartość miary AUC dla modeli (GBT) z różnych bibliotek dla różnych zbiorów danych')\n",
    "plt.xlabel('Zbiór danych')\n",
    "plt.ylabel('AUC')\n",
    "plt.show()"
   ]
  },
  {
   "cell_type": "code",
   "execution_count": 50,
   "metadata": {},
   "outputs": [
    {
     "data": {
      "image/png": "[encoded data removed]",
      "text/plain": [
       "<Figure size 432x288 with 1 Axes>"
      ]
     },
     "metadata": {
      "needs_background": "light"
     },
     "output_type": "display_data"
    }
   ],
   "source": [
    "gbt_basic_models_accuracy_data = [\n",
    "    [sparkML_gbt_basic_1e4_results.accuracy, h2o_gbt_basic_1e4_results.accuracy, synapseML_gbt_basic_1e4_results.accuracy],\n",
    "    [sparkML_gbt_basic_1e5_results.accuracy, h2o_gbt_basic_1e5_results.accuracy, synapseML_gbt_basic_1e5_results.accuracy],\n",
    "    [sparkML_gbt_basic_1e6_results.accuracy, h2o_gbt_basic_1e6_results.accuracy, synapseML_gbt_basic_1e6_results.accuracy],\n",
    "]\n",
    "\n",
    "gbt_basic_models_accuracy_df = pd.DataFrame(gbt_basic_models_accuracy_data, columns=['sparkML', 'h2o-sparkling-water', 'SynapseML'], index=['1e4', '1e5', '1e6'])\n",
    "\n",
    "gbt_basic_models_accuracy_df.plot.bar()\n",
    "plt.title('Wyk.9. Wartość miary Accuracy dla modeli (GBT) z różnych bibliotek dla różnych zbiorów danych')\n",
    "plt.xlabel('Zbiór danych')\n",
    "plt.ylabel('Accuracy')\n",
    "plt.show()"
   ]
  },
  {
   "cell_type": "markdown",
   "metadata": {},
   "source": [
    "W kwestii jakości predykcji dla różnych implementacji modeli GBT, widzimy nieco większą różnorodność wyników niż w przypadku regresji logistycznej. Ponownie możemy zaobserwować, że wraz ze wzrostem rozmiarów zbiorów danych, modele uzyskują lepsze wyniki predykcji (nieznacznie). Implementacja z biblioteki h2o-sparkling-water uzyskuje najmniejsze wartości miar AUC i Accuracy dla zbioru 1e4, jednak dla pozostałych zbiorów  zdaje się uzyskiwać niemal identyczne wyniki co synapseML. Wartość AUC dla biblioteki sparkML ustępuje pozostałym modelom wraz ze zwiększaniem zbioru danych. Dla wszystkich miar i dla wszystkich zbiorów danych, SynapseML zdaje się osiągać najlepsze rezultaty.\n",
    "\n",
    "Przewaga SynapseMl uwidacznia się jeszcze bardziej przy badaniu czasu trenowania modeli. Dla każdego zbioru danych, synapseML jest kilkukrotnie szybszy od najwolniejszej w zestawieniu implementacji z biblioteki sparkML. Na wykresie 7. łatwo zauważyć, że dla każdej biblioteki czas trenowania rośnie wraz ze wzrostem rozmiarów zbiorów danych"
   ]
  },
  {
   "cell_type": "markdown",
   "metadata": {},
   "source": [
    "# **Gradient Boosted Trees - optymalizacja hiperparametrów modeli na zbiorze danych 1e6**\n",
    "\n",
    "Dla każdej badanej implementacji modelu typu Gradient Boosted Trees, spróbowaliśmy dokonać optymalizacji ich parametrów. Wyniki dla nowo otrzymanych modeli porównaliśmy z ich wersjami bazowymi. Optymalizację, trenowanie i testowanie modeli przeprowadziliśmy na zbiorze danych 1e6.\n",
    "\n",
    "Dla każdej biblioteki dokonaliśmy optymalizacji dla różnych parametrów, z wykorzystaniem metod detykowanych dla tych bibliotek. Szczegóły w implementacjach kolejnych wywoływanych funkcji."
   ]
  },
  {
   "cell_type": "markdown",
   "metadata": {},
   "source": [
    "## sparkML"
   ]
  },
  {
   "cell_type": "code",
   "execution_count": 51,
   "metadata": {},
   "outputs": [
    {
     "name": "stdout",
     "output_type": "stream",
     "text": [
      "----- Gradient Boosted Trees, sparkML, zbiór 1e6, optymalizowane hiperparametry -----\n",
      "Zoptymalizowane parametry:\n",
      "    maxDepth: 10\n",
      "    maxBins: 64\n",
      "AUC: 0.687\n",
      "Accuracy: 0.851\n",
      "Macierz pomyłek:\n",
      "   label  prediction   count\n",
      "0      0         0.0     590\n",
      "1      0         1.0   29093\n",
      "2      1         0.0     618\n",
      "3      1         1.0  169755\n"
     ]
    }
   ],
   "source": [
    "sparkML_gbt_tuning_1e6_results = tune_and_test_sparkML_gbt(training_df_1e6, testing_df_1e6)\n",
    "\n",
    "label_sparkML_gbt_tuning_1e6_results = 'Gradient Boosted Trees, sparkML, zbiór 1e6, optymalizowane hiperparametry'\n",
    "print_model_tuning_results(sparkML_gbt_tuning_1e6_results, label_sparkML_gbt_tuning_1e6_results)"
   ]
  },
  {
   "cell_type": "markdown",
   "metadata": {},
   "source": [
    "## H2O-sparklinkg-water"
   ]
  },
  {
   "cell_type": "code",
   "execution_count": 52,
   "metadata": {},
   "outputs": [
    {
     "name": "stdout",
     "output_type": "stream",
     "text": [
      "----- Gradient Boosted Trees, H2O-sparklinkg-water, zbiór 1e6, optymalizowane hiperparametry -----\n",
      "Zoptymalizowane parametry:\n",
      "    learnRate: 0.4\n",
      "    maxDepth: 64\n",
      "AUC: 0.655\n",
      "Accuracy: 0.833\n",
      "Macierz pomyłek:\n",
      "   label prediction   count\n",
      "0      0          0    4198\n",
      "1      0          1   25485\n",
      "2      1          0    7936\n",
      "3      1          1  162437\n"
     ]
    }
   ],
   "source": [
    "h2o_gbt_tuning_1e6_results = tune_and_test_h2o_gbt(training_df_1e6, testing_df_1e6)\n",
    "\n",
    "label_h2o_gbt_tuning_1e6_results = 'Gradient Boosted Trees, H2O-sparklinkg-water, zbiór 1e6, optymalizowane hiperparametry'\n",
    "print_model_tuning_results(h2o_gbt_tuning_1e6_results, label_h2o_gbt_tuning_1e6_results)"
   ]
  },
  {
   "cell_type": "markdown",
   "metadata": {},
   "source": [
    "## SynapseML"
   ]
  },
  {
   "cell_type": "code",
   "execution_count": 53,
   "metadata": {},
   "outputs": [
    {
     "name": "stdout",
     "output_type": "stream",
     "text": [
      "----- Gradient Boosted Trees, SynapseML, zbiór 1e6, optymalizowane hiperparametry -----\n",
      "AUC: 0.691\n",
      "Accuracy: 0.852\n",
      "Macierz pomyłek:\n",
      "   label  prediction   count\n",
      "0      0         0.0     286\n",
      "1      0         1.0   29397\n",
      "2      1         0.0     184\n",
      "3      1         1.0  170189\n"
     ]
    }
   ],
   "source": [
    "synapseML_gbt_tuning_1e6_results = tune_and_test_synapseML_gbt(training_df_1e6, testing_df_1e6)\n",
    "\n",
    "label_synapseML_gbt_tuning_1e6_results = 'Gradient Boosted Trees, SynapseML, zbiór 1e6, optymalizowane hiperparametry'\n",
    "print_model_tuning_results(synapseML_gbt_tuning_1e6_results, label_synapseML_gbt_tuning_1e6_results)"
   ]
  },
  {
   "cell_type": "markdown",
   "metadata": {},
   "source": [
    "## Analiza wyników"
   ]
  },
  {
   "cell_type": "code",
   "execution_count": 54,
   "metadata": {},
   "outputs": [
    {
     "data": {
      "image/png": "[encoded data removed]",
      "text/plain": [
       "<Figure size 432x288 with 1 Axes>"
      ]
     },
     "metadata": {
      "needs_background": "light"
     },
     "output_type": "display_data"
    }
   ],
   "source": [
    "gbt_tuned_models_auc_data = [\n",
    "    [sparkML_gbt_basic_1e6_results.auc, sparkML_gbt_tuning_1e6_results.auc],\n",
    "    [h2o_gbt_basic_1e6_results.auc, h2o_gbt_tuning_1e6_results.auc],\n",
    "    [synapseML_gbt_basic_1e6_results.auc, synapseML_gbt_tuning_1e6_results.auc]\n",
    "]\n",
    "\n",
    "gbt_tuned_models_auc_df = pd.DataFrame(gbt_tuned_models_auc_data, columns=['AUC przed optymalizacją', 'AUC po optymalizacji'], index=['sparkML', 'h2o-sparkling-water', 'SynapseML'])\n",
    "\n",
    "gbt_tuned_models_auc_df.plot.bar()\n",
    "plt.title('Wyk.10. Wartość miary AUC dla dostrajanych modeli (GBT) z różnych bibliotek dla zbioru danych 1e6')\n",
    "plt.xlabel('Biblioteka')\n",
    "plt.ylabel('AUC')\n",
    "plt.show()"
   ]
  },
  {
   "cell_type": "code",
   "execution_count": 55,
   "metadata": {},
   "outputs": [
    {
     "data": {
      "text/html": [
       "<div>\n",
       "<style scoped>\n",
       "    .dataframe tbody tr th:only-of-type {\n",
       "        vertical-align: middle;\n",
       "    }\n",
       "\n",
       "    .dataframe tbody tr th {\n",
       "        vertical-align: top;\n",
       "    }\n",
       "\n",
       "    .dataframe thead th {\n",
       "        text-align: right;\n",
       "    }\n",
       "</style>\n",
       "<table border=\"1\" class=\"dataframe\">\n",
       "  <thead>\n",
       "    <tr style=\"text-align: right;\">\n",
       "      <th></th>\n",
       "      <th>AUC przed optymalizacją</th>\n",
       "      <th>AUC po optymalizacji</th>\n",
       "    </tr>\n",
       "  </thead>\n",
       "  <tbody>\n",
       "    <tr>\n",
       "      <th>sparkML</th>\n",
       "      <td>0.678848</td>\n",
       "      <td>0.687332</td>\n",
       "    </tr>\n",
       "    <tr>\n",
       "      <th>h2o-sparkling-water</th>\n",
       "      <td>0.693875</td>\n",
       "      <td>0.655064</td>\n",
       "    </tr>\n",
       "    <tr>\n",
       "      <th>SynapseML</th>\n",
       "      <td>0.694211</td>\n",
       "      <td>0.690920</td>\n",
       "    </tr>\n",
       "  </tbody>\n",
       "</table>\n",
       "</div>"
      ],
      "text/plain": [
       "                     AUC przed optymalizacją  AUC po optymalizacji\n",
       "sparkML                             0.678848              0.687332\n",
       "h2o-sparkling-water                 0.693875              0.655064\n",
       "SynapseML                           0.694211              0.690920"
      ]
     },
     "execution_count": 55,
     "metadata": {},
     "output_type": "execute_result"
    }
   ],
   "source": [
    "gbt_tuned_models_auc_df"
   ]
  },
  {
   "cell_type": "code",
   "execution_count": 56,
   "metadata": {},
   "outputs": [
    {
     "data": {
      "image/png": "[encoded data removed]",
      "text/plain": [
       "<Figure size 432x288 with 1 Axes>"
      ]
     },
     "metadata": {
      "needs_background": "light"
     },
     "output_type": "display_data"
    }
   ],
   "source": [
    "gbt_tuned_models_accuracy_data = [\n",
    "    [sparkML_gbt_basic_1e6_results.accuracy, sparkML_gbt_tuning_1e6_results.accuracy],\n",
    "    [h2o_gbt_basic_1e6_results.accuracy, h2o_gbt_tuning_1e6_results.accuracy],\n",
    "    [synapseML_gbt_basic_1e6_results.accuracy, synapseML_gbt_tuning_1e6_results.accuracy]\n",
    "]\n",
    "\n",
    "gbt_tuned_models_accuracy_df = pd.DataFrame(gbt_tuned_models_accuracy_data, columns=['Accuracy przed optymalizacją', 'Accuracy po optymalizacji'], index=['sparkML', 'h2o-sparkling-water', 'SynapseML'])\n",
    "\n",
    "gbt_tuned_models_accuracy_df.plot.bar()\n",
    "plt.title('Wyk.11. Wartość miary Accuracy dla dostrajanych modeli (GBT) z różnych bibliotek dla zbioru danych 1e6')\n",
    "plt.xlabel('Biblioteka')\n",
    "plt.ylabel('Accuracy')\n",
    "plt.show()"
   ]
  },
  {
   "cell_type": "code",
   "execution_count": 57,
   "metadata": {},
   "outputs": [
    {
     "data": {
      "text/html": [
       "<div>\n",
       "<style scoped>\n",
       "    .dataframe tbody tr th:only-of-type {\n",
       "        vertical-align: middle;\n",
       "    }\n",
       "\n",
       "    .dataframe tbody tr th {\n",
       "        vertical-align: top;\n",
       "    }\n",
       "\n",
       "    .dataframe thead th {\n",
       "        text-align: right;\n",
       "    }\n",
       "</style>\n",
       "<table border=\"1\" class=\"dataframe\">\n",
       "  <thead>\n",
       "    <tr style=\"text-align: right;\">\n",
       "      <th></th>\n",
       "      <th>Accuracy przed optymalizacją</th>\n",
       "      <th>Accuracy po optymalizacji</th>\n",
       "    </tr>\n",
       "  </thead>\n",
       "  <tbody>\n",
       "    <tr>\n",
       "      <th>sparkML</th>\n",
       "      <td>0.851841</td>\n",
       "      <td>0.851487</td>\n",
       "    </tr>\n",
       "    <tr>\n",
       "      <th>h2o-sparkling-water</th>\n",
       "      <td>0.852346</td>\n",
       "      <td>0.832942</td>\n",
       "    </tr>\n",
       "    <tr>\n",
       "      <th>SynapseML</th>\n",
       "      <td>0.852231</td>\n",
       "      <td>0.852136</td>\n",
       "    </tr>\n",
       "  </tbody>\n",
       "</table>\n",
       "</div>"
      ],
      "text/plain": [
       "                     Accuracy przed optymalizacją  Accuracy po optymalizacji\n",
       "sparkML                                  0.851841                   0.851487\n",
       "h2o-sparkling-water                      0.852346                   0.832942\n",
       "SynapseML                                0.852231                   0.852136"
      ]
     },
     "execution_count": 57,
     "metadata": {},
     "output_type": "execute_result"
    }
   ],
   "source": [
    "gbt_tuned_models_accuracy_df"
   ]
  },
  {
   "cell_type": "markdown",
   "metadata": {},
   "source": [
    "Dla implementacji z biblioteki sparkML udało nam się minimalnie poprawić jakość predykcji modelu, jednak wciąż nie jest ona lepsza niż dla niezoptymalizowanego modelu z biblioteki SynapseML."
   ]
  },
  {
   "cell_type": "markdown",
   "metadata": {
    "tags": []
   },
   "source": [
    "# **Gradient Boosted Trees - porównanie czasu trenowania modeli dla zbioru danych 1e6 w zależności od liczby dostępnych wątków**\n",
    "\n",
    "Dla różnej liczby dostępnych wątków w środowisku testowym (1, 2 i 3), sprawdziliśmy czasy trenowania bazowych wersji modelów typu Gradient Boosted Trees z bibliotek Spark, h2o-sparkling-water oraz SynapseML. W niniejszym sprawozdaniu przedstawiliśmy wyniki dla zbioru danych 1e6\n",
    "\n",
    "**Ze względu na problemy z resetowaniem kontekstu h2o w ramach jednego notatnika (co było konieczne do zmiany liczby dostępnych wątków), eksperymenty dla tego zadania przeprowadziliśmy w oddzielnych notatnikach, a ich wyniki przepisaliśmy do niniejszego sprawozdania. Notatniki można znaleźć w folderze tbd-notebooks/cores_testing.**"
   ]
  },
  {
   "cell_type": "code",
   "execution_count": 58,
   "metadata": {},
   "outputs": [],
   "source": [
    "gbt_basic_models_training_times_for_cores_data = [\n",
    "    [299.921, 127.415, 82.888],\n",
    "    [137.942, 78.894, 60.38],\n",
    "    [69.243, 39.783, 28.615]\n",
    "]"
   ]
  },
  {
   "cell_type": "markdown",
   "metadata": {},
   "source": [
    "## Analiza wyników"
   ]
  },
  {
   "cell_type": "code",
   "execution_count": 59,
   "metadata": {},
   "outputs": [
    {
     "data": {
      "image/png": "[encoded data removed]",
      "text/plain": [
       "<Figure size 432x288 with 1 Axes>"
      ]
     },
     "metadata": {
      "needs_background": "light"
     },
     "output_type": "display_data"
    }
   ],
   "source": [
    "gbt_basic_models_training_times_for_cores_df = pd.DataFrame(gbt_basic_models_training_times_for_cores_data, columns=['1 wątek', '2 wątki', '3 wątki'], index=['sparkML', 'h2o-sparkling-water', 'SynapseML'])\n",
    "\n",
    "gbt_basic_models_training_times_for_cores_df.plot.bar()\n",
    "plt.title('Wyk.12. Czasy trenowania modeli (GBT) z różnych bibliotek dla zbioru danych 1e6 z uwzględnieniem liczby dostępnych wątków')\n",
    "plt.xlabel('Biblioteka')\n",
    "plt.ylabel('Czas trenowania modelu [s]')\n",
    "plt.show()"
   ]
  },
  {
   "cell_type": "code",
   "execution_count": 60,
   "metadata": {},
   "outputs": [
    {
     "data": {
      "text/html": [
       "<div>\n",
       "<style scoped>\n",
       "    .dataframe tbody tr th:only-of-type {\n",
       "        vertical-align: middle;\n",
       "    }\n",
       "\n",
       "    .dataframe tbody tr th {\n",
       "        vertical-align: top;\n",
       "    }\n",
       "\n",
       "    .dataframe thead th {\n",
       "        text-align: right;\n",
       "    }\n",
       "</style>\n",
       "<table border=\"1\" class=\"dataframe\">\n",
       "  <thead>\n",
       "    <tr style=\"text-align: right;\">\n",
       "      <th></th>\n",
       "      <th>1 wątek</th>\n",
       "      <th>2 wątki</th>\n",
       "      <th>3 wątki</th>\n",
       "    </tr>\n",
       "  </thead>\n",
       "  <tbody>\n",
       "    <tr>\n",
       "      <th>sparkML</th>\n",
       "      <td>299.921</td>\n",
       "      <td>127.415</td>\n",
       "      <td>82.888</td>\n",
       "    </tr>\n",
       "    <tr>\n",
       "      <th>h2o-sparkling-water</th>\n",
       "      <td>137.942</td>\n",
       "      <td>78.894</td>\n",
       "      <td>60.380</td>\n",
       "    </tr>\n",
       "    <tr>\n",
       "      <th>SynapseML</th>\n",
       "      <td>69.243</td>\n",
       "      <td>39.783</td>\n",
       "      <td>28.615</td>\n",
       "    </tr>\n",
       "  </tbody>\n",
       "</table>\n",
       "</div>"
      ],
      "text/plain": [
       "                     1 wątek  2 wątki  3 wątki\n",
       "sparkML              299.921  127.415   82.888\n",
       "h2o-sparkling-water  137.942   78.894   60.380\n",
       "SynapseML             69.243   39.783   28.615"
      ]
     },
     "execution_count": 60,
     "metadata": {},
     "output_type": "execute_result"
    }
   ],
   "source": [
    "gbt_basic_models_training_times_for_cores_df"
   ]
  },
  {
   "cell_type": "markdown",
   "metadata": {},
   "source": [
    "Dla każdej implementacji modelu GBT obserwujemy spadek czasu trenowania modeli wraz ze wzrostem liczby dostępnych wątków. Dla większej liczby wątków maleją też różnice w czasie trenowania między poszczególnymi implementacjami (szczególnie widoczne dla sparkML). Ponownie najkrótsze czasy trenowania modeli są widoczne dla biblioteki SynapseML."
   ]
  },
  {
   "cell_type": "markdown",
   "metadata": {},
   "source": [
    "# **Wnioski i podsumowanie**"
   ]
  },
  {
   "cell_type": "markdown",
   "metadata": {},
   "source": [
    "## Wartość miary AUC dla modeli bazowych"
   ]
  },
  {
   "cell_type": "code",
   "execution_count": 61,
   "metadata": {},
   "outputs": [
    {
     "data": {
      "image/png": "[encoded data removed]",
      "text/plain": [
       "<Figure size 432x288 with 1 Axes>"
      ]
     },
     "metadata": {
      "needs_background": "light"
     },
     "output_type": "display_data"
    }
   ],
   "source": [
    "basic_models_auc_data = [\n",
    "    [sparkML_lr_basic_1e4_results.auc, h2o_lr_basic_1e4_results.auc, sklearn_lr_basic_1e4_results.auc, sparkML_gbt_basic_1e4_results.auc, h2o_gbt_basic_1e4_results.auc, synapseML_gbt_basic_1e4_results.auc],\n",
    "    [sparkML_lr_basic_1e5_results.auc, h2o_lr_basic_1e5_results.auc, sklearn_lr_basic_1e5_results.auc, sparkML_gbt_basic_1e5_results.auc, h2o_gbt_basic_1e5_results.auc, synapseML_gbt_basic_1e5_results.auc],\n",
    "    [sparkML_lr_basic_1e6_results.auc, h2o_lr_basic_1e6_results.auc, sklearn_lr_basic_1e6_results.auc, sparkML_gbt_basic_1e6_results.auc, h2o_gbt_basic_1e6_results.auc, synapseML_gbt_basic_1e6_results.auc]\n",
    "]\n",
    "\n",
    "basic_models_auc_df = pd.DataFrame(basic_models_auc_data, columns=['sparkML (lr)', 'h2o-sparkling-water (lr)', 'scikit-learn (lr)', 'sparkML (gbt)', 'h2o-sparkling-water (gbt)', 'SynapseML (gbt)'], index=['1e4', '1e5', '1e6'])\n",
    "\n",
    "basic_models_auc_df.plot.bar()\n",
    "plt.title('Wyk.13. Wartość miary AUC dla modeli (LR i GBT) z różnych bibliotek dla różnych zbiorów danych')\n",
    "plt.xlabel('Zbiór danych')\n",
    "plt.ylabel('AUC')\n",
    "plt.show()"
   ]
  },
  {
   "cell_type": "code",
   "execution_count": 62,
   "metadata": {},
   "outputs": [
    {
     "data": {
      "text/html": [
       "<div>\n",
       "<style scoped>\n",
       "    .dataframe tbody tr th:only-of-type {\n",
       "        vertical-align: middle;\n",
       "    }\n",
       "\n",
       "    .dataframe tbody tr th {\n",
       "        vertical-align: top;\n",
       "    }\n",
       "\n",
       "    .dataframe thead th {\n",
       "        text-align: right;\n",
       "    }\n",
       "</style>\n",
       "<table border=\"1\" class=\"dataframe\">\n",
       "  <thead>\n",
       "    <tr style=\"text-align: right;\">\n",
       "      <th></th>\n",
       "      <th>sparkML (lr)</th>\n",
       "      <th>h2o-sparkling-water (lr)</th>\n",
       "      <th>scikit-learn (lr)</th>\n",
       "      <th>sparkML (gbt)</th>\n",
       "      <th>h2o-sparkling-water (gbt)</th>\n",
       "      <th>SynapseML (gbt)</th>\n",
       "    </tr>\n",
       "  </thead>\n",
       "  <tbody>\n",
       "    <tr>\n",
       "      <th>1e4</th>\n",
       "      <td>0.645819</td>\n",
       "      <td>0.645907</td>\n",
       "      <td>0.645725</td>\n",
       "      <td>0.674647</td>\n",
       "      <td>0.654710</td>\n",
       "      <td>0.675641</td>\n",
       "    </tr>\n",
       "    <tr>\n",
       "      <th>1e5</th>\n",
       "      <td>0.666214</td>\n",
       "      <td>0.662145</td>\n",
       "      <td>0.658434</td>\n",
       "      <td>0.677357</td>\n",
       "      <td>0.682118</td>\n",
       "      <td>0.684524</td>\n",
       "    </tr>\n",
       "    <tr>\n",
       "      <th>1e6</th>\n",
       "      <td>0.664876</td>\n",
       "      <td>0.664882</td>\n",
       "      <td>0.660399</td>\n",
       "      <td>0.678848</td>\n",
       "      <td>0.693875</td>\n",
       "      <td>0.694211</td>\n",
       "    </tr>\n",
       "  </tbody>\n",
       "</table>\n",
       "</div>"
      ],
      "text/plain": [
       "     sparkML (lr)  h2o-sparkling-water (lr)  scikit-learn (lr)  sparkML (gbt)  \\\n",
       "1e4      0.645819                  0.645907           0.645725       0.674647   \n",
       "1e5      0.666214                  0.662145           0.658434       0.677357   \n",
       "1e6      0.664876                  0.664882           0.660399       0.678848   \n",
       "\n",
       "     h2o-sparkling-water (gbt)  SynapseML (gbt)  \n",
       "1e4                   0.654710         0.675641  \n",
       "1e5                   0.682118         0.684524  \n",
       "1e6                   0.693875         0.694211  "
      ]
     },
     "execution_count": 62,
     "metadata": {},
     "output_type": "execute_result"
    }
   ],
   "source": [
    "basic_models_auc_df"
   ]
  },
  {
   "cell_type": "markdown",
   "metadata": {},
   "source": [
    "## Wartość miary Accuracy dla modeli bazowych"
   ]
  },
  {
   "cell_type": "code",
   "execution_count": 63,
   "metadata": {},
   "outputs": [
    {
     "data": {
      "image/png": "[encoded data removed]",
      "text/plain": [
       "<Figure size 432x288 with 1 Axes>"
      ]
     },
     "metadata": {
      "needs_background": "light"
     },
     "output_type": "display_data"
    }
   ],
   "source": [
    "basic_models_accuracy_data = [\n",
    "    [sparkML_lr_basic_1e4_results.accuracy, h2o_lr_basic_1e4_results.accuracy, sklearn_lr_basic_1e4_results.accuracy, sparkML_gbt_basic_1e4_results.accuracy, h2o_gbt_basic_1e4_results.accuracy, synapseML_gbt_basic_1e4_results.accuracy],\n",
    "    [sparkML_lr_basic_1e5_results.accuracy, h2o_lr_basic_1e5_results.accuracy, sklearn_lr_basic_1e5_results.accuracy, sparkML_gbt_basic_1e5_results.accuracy, h2o_gbt_basic_1e5_results.accuracy, synapseML_gbt_basic_1e5_results.accuracy],\n",
    "    [sparkML_lr_basic_1e6_results.accuracy, h2o_lr_basic_1e6_results.accuracy, sklearn_lr_basic_1e6_results.accuracy, sparkML_gbt_basic_1e6_results.accuracy, h2o_gbt_basic_1e6_results.accuracy, synapseML_gbt_basic_1e6_results.accuracy]\n",
    "]\n",
    "\n",
    "basic_models_accuracy_df = pd.DataFrame(basic_models_accuracy_data, columns=['sparkML (lr)', 'h2o-sparkling-water (lr)', 'scikit-learn (lr)', 'sparkML (gbt)', 'h2o-sparkling-water (gbt)', 'SynapseML (gbt)'], index=['1e4', '1e5', '1e6'])\n",
    "\n",
    "basic_models_accuracy_df.plot.bar()\n",
    "plt.title('Wyk.14. Wartość miary Accuracy dla modeli (LR i GBT) z różnych bibliotek dla różnych zbiorów danych')\n",
    "plt.xlabel('Zbiór danych')\n",
    "plt.ylabel('Accuracy')\n",
    "plt.show()"
   ]
  },
  {
   "cell_type": "code",
   "execution_count": 64,
   "metadata": {},
   "outputs": [
    {
     "data": {
      "text/html": [
       "<div>\n",
       "<style scoped>\n",
       "    .dataframe tbody tr th:only-of-type {\n",
       "        vertical-align: middle;\n",
       "    }\n",
       "\n",
       "    .dataframe tbody tr th {\n",
       "        vertical-align: top;\n",
       "    }\n",
       "\n",
       "    .dataframe thead th {\n",
       "        text-align: right;\n",
       "    }\n",
       "</style>\n",
       "<table border=\"1\" class=\"dataframe\">\n",
       "  <thead>\n",
       "    <tr style=\"text-align: right;\">\n",
       "      <th></th>\n",
       "      <th>sparkML (lr)</th>\n",
       "      <th>h2o-sparkling-water (lr)</th>\n",
       "      <th>scikit-learn (lr)</th>\n",
       "      <th>sparkML (gbt)</th>\n",
       "      <th>h2o-sparkling-water (gbt)</th>\n",
       "      <th>SynapseML (gbt)</th>\n",
       "    </tr>\n",
       "  </thead>\n",
       "  <tbody>\n",
       "    <tr>\n",
       "      <th>1e4</th>\n",
       "      <td>0.836203</td>\n",
       "      <td>0.836695</td>\n",
       "      <td>0.838662</td>\n",
       "      <td>0.836695</td>\n",
       "      <td>0.836695</td>\n",
       "      <td>0.838170</td>\n",
       "    </tr>\n",
       "    <tr>\n",
       "      <th>1e5</th>\n",
       "      <td>0.848633</td>\n",
       "      <td>0.848482</td>\n",
       "      <td>0.848733</td>\n",
       "      <td>0.848482</td>\n",
       "      <td>0.846873</td>\n",
       "      <td>0.849135</td>\n",
       "    </tr>\n",
       "    <tr>\n",
       "      <th>1e6</th>\n",
       "      <td>0.851826</td>\n",
       "      <td>0.851642</td>\n",
       "      <td>0.851722</td>\n",
       "      <td>0.851841</td>\n",
       "      <td>0.852346</td>\n",
       "      <td>0.852231</td>\n",
       "    </tr>\n",
       "  </tbody>\n",
       "</table>\n",
       "</div>"
      ],
      "text/plain": [
       "     sparkML (lr)  h2o-sparkling-water (lr)  scikit-learn (lr)  sparkML (gbt)  \\\n",
       "1e4      0.836203                  0.836695           0.838662       0.836695   \n",
       "1e5      0.848633                  0.848482           0.848733       0.848482   \n",
       "1e6      0.851826                  0.851642           0.851722       0.851841   \n",
       "\n",
       "     h2o-sparkling-water (gbt)  SynapseML (gbt)  \n",
       "1e4                   0.836695         0.838170  \n",
       "1e5                   0.846873         0.849135  \n",
       "1e6                   0.852346         0.852231  "
      ]
     },
     "execution_count": 64,
     "metadata": {},
     "output_type": "execute_result"
    }
   ],
   "source": [
    "basic_models_accuracy_df"
   ]
  },
  {
   "cell_type": "markdown",
   "metadata": {},
   "source": [
    "## Wartość miary AUC dla modeli optymalizowanych"
   ]
  },
  {
   "cell_type": "code",
   "execution_count": 65,
   "metadata": {},
   "outputs": [
    {
     "data": {
      "image/png": "[encoded data removed]",
      "text/plain": [
       "<Figure size 432x288 with 1 Axes>"
      ]
     },
     "metadata": {
      "needs_background": "light"
     },
     "output_type": "display_data"
    }
   ],
   "source": [
    "tuned_models_auc_data = [\n",
    "    [sparkML_lr_tuning_1e6_results.auc],\n",
    "    [h2o_lr_tuning_1e6_results.auc],\n",
    "    [sklearn_lr_tuning_1e6_results.auc],\n",
    "    [sparkML_gbt_tuning_1e6_results.auc],\n",
    "    [h2o_gbt_tuning_1e6_results.auc],\n",
    "    [sparkML_gbt_tuning_1e6_results.auc]\n",
    "]\n",
    "\n",
    "tuned_models_auc_df = pd.DataFrame(tuned_models_auc_data, columns=['AUC'], index=['sparkML (lr)', 'h2o-sparkling-water (lr)', 'scikit-learn (lr)', 'sparkML (gbt)', 'h2o-sparkling-water (gbt)', 'SynapseML (gbt)'])\n",
    "\n",
    "tuned_models_auc_df.plot.bar()\n",
    "plt.title('Wyk.15. Wartość miary AUC dla dostrajanych modeli (LR i GBT) z różnych bibliotek dla zbioru danych 1e6')\n",
    "plt.xlabel('Biblioteka')\n",
    "plt.ylabel('AUC')\n",
    "plt.show()"
   ]
  },
  {
   "cell_type": "code",
   "execution_count": 66,
   "metadata": {},
   "outputs": [
    {
     "data": {
      "text/html": [
       "<div>\n",
       "<style scoped>\n",
       "    .dataframe tbody tr th:only-of-type {\n",
       "        vertical-align: middle;\n",
       "    }\n",
       "\n",
       "    .dataframe tbody tr th {\n",
       "        vertical-align: top;\n",
       "    }\n",
       "\n",
       "    .dataframe thead th {\n",
       "        text-align: right;\n",
       "    }\n",
       "</style>\n",
       "<table border=\"1\" class=\"dataframe\">\n",
       "  <thead>\n",
       "    <tr style=\"text-align: right;\">\n",
       "      <th></th>\n",
       "      <th>AUC</th>\n",
       "    </tr>\n",
       "  </thead>\n",
       "  <tbody>\n",
       "    <tr>\n",
       "      <th>sparkML (lr)</th>\n",
       "      <td>0.664874</td>\n",
       "    </tr>\n",
       "    <tr>\n",
       "      <th>h2o-sparkling-water (lr)</th>\n",
       "      <td>0.664872</td>\n",
       "    </tr>\n",
       "    <tr>\n",
       "      <th>scikit-learn (lr)</th>\n",
       "      <td>0.664850</td>\n",
       "    </tr>\n",
       "    <tr>\n",
       "      <th>sparkML (gbt)</th>\n",
       "      <td>0.687332</td>\n",
       "    </tr>\n",
       "    <tr>\n",
       "      <th>h2o-sparkling-water (gbt)</th>\n",
       "      <td>0.655064</td>\n",
       "    </tr>\n",
       "    <tr>\n",
       "      <th>SynapseML (gbt)</th>\n",
       "      <td>0.687332</td>\n",
       "    </tr>\n",
       "  </tbody>\n",
       "</table>\n",
       "</div>"
      ],
      "text/plain": [
       "                                AUC\n",
       "sparkML (lr)               0.664874\n",
       "h2o-sparkling-water (lr)   0.664872\n",
       "scikit-learn (lr)          0.664850\n",
       "sparkML (gbt)              0.687332\n",
       "h2o-sparkling-water (gbt)  0.655064\n",
       "SynapseML (gbt)            0.687332"
      ]
     },
     "execution_count": 66,
     "metadata": {},
     "output_type": "execute_result"
    }
   ],
   "source": [
    "tuned_models_auc_df"
   ]
  },
  {
   "cell_type": "markdown",
   "metadata": {},
   "source": [
    "## Wartość miary Accuracy dla modeli optymalizowanych"
   ]
  },
  {
   "cell_type": "code",
   "execution_count": 67,
   "metadata": {},
   "outputs": [
    {
     "data": {
      "image/png": "[encoded data removed]",
      "text/plain": [
       "<Figure size 432x288 with 1 Axes>"
      ]
     },
     "metadata": {
      "needs_background": "light"
     },
     "output_type": "display_data"
    }
   ],
   "source": [
    "tuned_models_accuracy_data = [\n",
    "    [sparkML_lr_tuning_1e6_results.accuracy],\n",
    "    [h2o_lr_tuning_1e6_results.accuracy],\n",
    "    [sklearn_lr_tuning_1e6_results.accuracy],\n",
    "    [sparkML_gbt_tuning_1e6_results.accuracy],\n",
    "    [h2o_gbt_tuning_1e6_results.accuracy],\n",
    "    [sparkML_gbt_tuning_1e6_results.accuracy]\n",
    "]\n",
    "\n",
    "tuned_models_accuracy_df = pd.DataFrame(tuned_models_accuracy_data, columns=['Accuracy'], index=['sparkML (lr)', 'h2o-sparkling-water (lr)', 'scikit-learn (lr)', 'sparkML (gbt)', 'h2o-sparkling-water (gbt)', 'SynapseML (gbt)'])\n",
    "\n",
    "tuned_models_accuracy_df.plot.bar()\n",
    "plt.title('Wyk.16. Wartość miary Accuracy dla dostrajanych modeli (LR i GBT) z różnych bibliotek dla zbioru danych 1e6')\n",
    "plt.xlabel('Biblioteka')\n",
    "plt.ylabel('Accuracy')\n",
    "plt.show()"
   ]
  },
  {
   "cell_type": "code",
   "execution_count": 68,
   "metadata": {},
   "outputs": [
    {
     "data": {
      "text/html": [
       "<div>\n",
       "<style scoped>\n",
       "    .dataframe tbody tr th:only-of-type {\n",
       "        vertical-align: middle;\n",
       "    }\n",
       "\n",
       "    .dataframe tbody tr th {\n",
       "        vertical-align: top;\n",
       "    }\n",
       "\n",
       "    .dataframe thead th {\n",
       "        text-align: right;\n",
       "    }\n",
       "</style>\n",
       "<table border=\"1\" class=\"dataframe\">\n",
       "  <thead>\n",
       "    <tr style=\"text-align: right;\">\n",
       "      <th></th>\n",
       "      <th>Accuracy</th>\n",
       "    </tr>\n",
       "  </thead>\n",
       "  <tbody>\n",
       "    <tr>\n",
       "      <th>sparkML (lr)</th>\n",
       "      <td>0.851826</td>\n",
       "    </tr>\n",
       "    <tr>\n",
       "      <th>h2o-sparkling-water (lr)</th>\n",
       "      <td>0.851687</td>\n",
       "    </tr>\n",
       "    <tr>\n",
       "      <th>scikit-learn (lr)</th>\n",
       "      <td>0.851821</td>\n",
       "    </tr>\n",
       "    <tr>\n",
       "      <th>sparkML (gbt)</th>\n",
       "      <td>0.851487</td>\n",
       "    </tr>\n",
       "    <tr>\n",
       "      <th>h2o-sparkling-water (gbt)</th>\n",
       "      <td>0.832942</td>\n",
       "    </tr>\n",
       "    <tr>\n",
       "      <th>SynapseML (gbt)</th>\n",
       "      <td>0.851487</td>\n",
       "    </tr>\n",
       "  </tbody>\n",
       "</table>\n",
       "</div>"
      ],
      "text/plain": [
       "                           Accuracy\n",
       "sparkML (lr)               0.851826\n",
       "h2o-sparkling-water (lr)   0.851687\n",
       "scikit-learn (lr)          0.851821\n",
       "sparkML (gbt)              0.851487\n",
       "h2o-sparkling-water (gbt)  0.832942\n",
       "SynapseML (gbt)            0.851487"
      ]
     },
     "execution_count": 68,
     "metadata": {},
     "output_type": "execute_result"
    }
   ],
   "source": [
    "tuned_models_accuracy_df"
   ]
  },
  {
   "cell_type": "markdown",
   "metadata": {},
   "source": [
    "## Trenowanie dla różnej liczby rdzeni"
   ]
  },
  {
   "cell_type": "code",
   "execution_count": 69,
   "metadata": {},
   "outputs": [
    {
     "data": {
      "image/png": "[encoded data removed]",
      "text/plain": [
       "<Figure size 432x288 with 1 Axes>"
      ]
     },
     "metadata": {
      "needs_background": "light"
     },
     "output_type": "display_data"
    }
   ],
   "source": [
    "basic_models_training_times_for_cores_data = [\n",
    "    [57.245, 34.946, 25.672],\n",
    "    [58.314, 38.361, 27.613],\n",
    "    [119.977, 306.877, 304.123],\n",
    "    [299.921, 127.415, 82.888],\n",
    "    [137.942, 78.894, 60.38],\n",
    "    [69.243, 39.783, 28.615]\n",
    "]\n",
    "\n",
    "basic_models_training_times_for_cores_df = pd.DataFrame(basic_models_training_times_for_cores_data, columns=['1 wątek', '2 wątki', '3 wątki'], index=['sparkML (lr)', 'h2o-sparkling-water (lr)', 'scikit-learn (lr)', 'sparkML (gbt)', 'h2o-sparkling-water (gbt)', 'SynapseML (gbt)'])\n",
    "\n",
    "basic_models_training_times_for_cores_df.plot.bar()\n",
    "plt.title('Wyk.17. Czasy trenowania modeli (LR i GBT) z różnych bibliotek dla zbioru danych 1e6 z uwzględnieniem liczby dostępnych wątków')\n",
    "plt.xlabel('Biblioteka')\n",
    "plt.ylabel('Czas trenowania modelu [s]')\n",
    "plt.show()"
   ]
  },
  {
   "cell_type": "code",
   "execution_count": 70,
   "metadata": {},
   "outputs": [
    {
     "data": {
      "text/html": [
       "<div>\n",
       "<style scoped>\n",
       "    .dataframe tbody tr th:only-of-type {\n",
       "        vertical-align: middle;\n",
       "    }\n",
       "\n",
       "    .dataframe tbody tr th {\n",
       "        vertical-align: top;\n",
       "    }\n",
       "\n",
       "    .dataframe thead th {\n",
       "        text-align: right;\n",
       "    }\n",
       "</style>\n",
       "<table border=\"1\" class=\"dataframe\">\n",
       "  <thead>\n",
       "    <tr style=\"text-align: right;\">\n",
       "      <th></th>\n",
       "      <th>1 wątek</th>\n",
       "      <th>2 wątki</th>\n",
       "      <th>3 wątki</th>\n",
       "    </tr>\n",
       "  </thead>\n",
       "  <tbody>\n",
       "    <tr>\n",
       "      <th>sparkML (lr)</th>\n",
       "      <td>57.245</td>\n",
       "      <td>34.946</td>\n",
       "      <td>25.672</td>\n",
       "    </tr>\n",
       "    <tr>\n",
       "      <th>h2o-sparkling-water (lr)</th>\n",
       "      <td>58.314</td>\n",
       "      <td>38.361</td>\n",
       "      <td>27.613</td>\n",
       "    </tr>\n",
       "    <tr>\n",
       "      <th>scikit-learn (lr)</th>\n",
       "      <td>119.977</td>\n",
       "      <td>306.877</td>\n",
       "      <td>304.123</td>\n",
       "    </tr>\n",
       "    <tr>\n",
       "      <th>sparkML (gbt)</th>\n",
       "      <td>299.921</td>\n",
       "      <td>127.415</td>\n",
       "      <td>82.888</td>\n",
       "    </tr>\n",
       "    <tr>\n",
       "      <th>h2o-sparkling-water (gbt)</th>\n",
       "      <td>137.942</td>\n",
       "      <td>78.894</td>\n",
       "      <td>60.380</td>\n",
       "    </tr>\n",
       "    <tr>\n",
       "      <th>SynapseML (gbt)</th>\n",
       "      <td>69.243</td>\n",
       "      <td>39.783</td>\n",
       "      <td>28.615</td>\n",
       "    </tr>\n",
       "  </tbody>\n",
       "</table>\n",
       "</div>"
      ],
      "text/plain": [
       "                           1 wątek  2 wątki  3 wątki\n",
       "sparkML (lr)                57.245   34.946   25.672\n",
       "h2o-sparkling-water (lr)    58.314   38.361   27.613\n",
       "scikit-learn (lr)          119.977  306.877  304.123\n",
       "sparkML (gbt)              299.921  127.415   82.888\n",
       "h2o-sparkling-water (gbt)  137.942   78.894   60.380\n",
       "SynapseML (gbt)             69.243   39.783   28.615"
      ]
     },
     "execution_count": 70,
     "metadata": {},
     "output_type": "execute_result"
    }
   ],
   "source": [
    "basic_models_training_times_for_cores_df"
   ]
  },
  {
   "cell_type": "markdown",
   "metadata": {},
   "source": [
    "Z analizy wszystkich zebranych w niniejszym sprawozdaniu wyników eksperymentów można stwierdzić, że najlepsze rezultaty, zarówno pod względem czasu trenowania jak i jakości predykcji osiąga implementacja GBT z biblioteki SynapseML. Czasy trenowania dla niej są na poziomie czasów trenowania dla mniej wymagających modeli typu LR i znacznie odbiegają od pozostałych implementacji GBT. Na zwiększaniu liczby dostępnych wątków najbardziej zdaje się korzystać implementacja GBT z biblioteki sparkML, jednak dla każdego rozproszonego modelu widać wyraźne skrócenie czasów trenowania.\n",
    "\n",
    "Lepsze wartości miary AUC osiągają modele typu Gradient Boosted Trees. Wartości Accuracy są bardziej zbliżone między różnymi rodzajami modeli, jednak ta miara jest mniej odporna na nieproporcjonalność zbiorów danych. Generalnie dla większych zbiorów danych wytrenowane modele osiągały lepszą jakość predykcji, jednak sam czas trenowania wzrastał znacząco. Oczywiście oprócz ilości danych ważna też jest ich jakość.\n",
    "\n",
    "W kwestii strojenia modeli, implementacje Gradient Boosted Trees zdają się pozwalać na bardziej zaawansowaną optymalizację niż modele regresji logistycznej. Każda biblioteka oferuje różne parametry modeli oraz klasy służące do poszukiwania najlepszego zestawu parametrów modeli. Optymalizacja modeli może być czasochłonna i zasobożerna, a i tak uzyskanie lepszych wyników nie jest gwarantowane.\n",
    "\n",
    "Jeśli chodzi o przygotowanie danych na potrzeby trenowania modeli, to wszystkie testowane implementacje rozproszone korzystały z tych samych struktur danych, o tym samym schemacie i wartościach. Jedyny problem dotyczył biblioteki SynapseML - na jej potrzeby musieliśmy dodatkowo dokonać modyfikacji wartości w kolumnie Light_Conditions tak, aby nie zawierały one znaku ':', który powodował błąd przy próbie trenowania modelu GBT z tej biblioteki. Dla biblioteki scikit-learn musieliśmy dokonać dodatkowego przetworzenia kolumny features i zmiany struktury danych. Oddzielny potok przetwarzania dla tej biblioteki biblioteki mógłby prawdopodobnie poprawić jej czasy trenowania modeli. Zbliżone wartości miar AUC i Accuracy dla poszczególnych rodzajów modeli mogą wskazywać, że użycie jednakowych cech dla różnych implementacji może być wystarczające, jednak aby to potwierdzić należałoby przeprowadzić dodatkowe eksperymenty.\n",
    "\n",
    "Trzeba też wziąć poprawkę na to, że eksperymenty były przeprowadzane lokalnie na maszynie wirtualnej. Pomiary w środowisku rozproszonym mogłyby pokazać inne wyniki."
   ]
  }
 ],
 "metadata": {
  "kernelspec": {
   "display_name": "Python 3 (ipykernel)",
   "language": "python",
   "name": "python3"
  },
  "language_info": {
   "codemirror_mode": {
    "name": "ipython",
    "version": 3
   },
   "file_extension": ".py",
   "mimetype": "text/x-python",
   "name": "python",
   "nbconvert_exporter": "python",
   "pygments_lexer": "ipython3",
   "version": "3.10.5"
  },
  "notebook_test": {
   "keytab_path": "/data/work/home/ds-lab-testuser1/ds-lab-testuser1.keytab",
   "user": "ds-lab-testuser1"
  }
 },
 "nbformat": 4,
 "nbformat_minor": 4
}
